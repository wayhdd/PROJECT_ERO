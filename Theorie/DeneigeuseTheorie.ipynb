{
 "cells": [
  {
   "cell_type": "code",
   "execution_count": null,
   "id": "713720ba",
   "metadata": {},
   "outputs": [],
   "source": [
    "import numpy as np\n",
    "from copy import copy"
   ]
  },
  {
   "cell_type": "markdown",
   "id": "457f26f1",
   "metadata": {},
   "source": [
    "# Déneigeuse - Etude de la Théorie"
   ]
  },
  {
   "cell_type": "markdown",
   "id": "a3b492a3",
   "metadata": {},
   "source": [
    "### Introduction"
   ]
  },
  {
   "cell_type": "markdown",
   "id": "37910e21",
   "metadata": {},
   "source": [
    "Dans ce notebook nous allons expliquer le fonctionnement de notre algorithme sur un exemple d'un petit graphe. Ce graphe est orienté et peut représenter un quartier de Montréal. Notre graphe est connexe mais peut quand même avoir des impasses. Les arêtes du graphe peuvent être vues comme des routes, elles sont soit à sens unique soit à double sens."
   ]
  },
  {
   "cell_type": "markdown",
   "id": "fa00f4c4",
   "metadata": {},
   "source": [
    "### Exlication de l'algorithme"
   ]
  },
  {
   "cell_type": "markdown",
   "id": "37b52ac3",
   "metadata": {},
   "source": [
    "La première méthode qui nous est venue à l'esprit était de chercher le chemin eulérien. Notre graphe étant orienté et n'étant pas forcément semi-eulérien, la recherche du chemin eulérien nécessite quelques modifications. Notre méthode pour trouver le chemin le plus optimal est donc la suivante :\n",
    "\n",
    "1. Transformer notre graphe en un graphe semi-eulérien en ajoutant des arêtes.\n",
    "\n",
    "2. Rechercher un chemin sur le nouveau graphe semi-eulérien.\n",
    "\n",
    "3. Transposer le chemin trouvé sur le graphe initial.\n",
    "\n",
    "4. Remplacer les passages du chemin eulérien qui n'existent pas par les chemins les plus courts en prenant en compte les sens des arêtes. Si on n'arrive pas trouver le chemin le plus court, on refait une recherche en considérant le graphe comme étant non orienté."
   ]
  },
  {
   "cell_type": "markdown",
   "id": "2e60939d",
   "metadata": {},
   "source": [
    "### Trouver le chemin le plus court entre deux noeuds "
   ]
  },
  {
   "cell_type": "markdown",
   "id": "c2f26b84",
   "metadata": {},
   "source": [
    "Pour trouver le chemin le plus court nous allons utiliser l'algorithme de Dijkstra. Nous avons implémenté une fonction qui adaptée aux graphes orientés et non orientés, il suffit juste de préciser le type en paramètre. Notre fonction renvoie un tuple ([chemin], distance). Dans le cas où le chemin n'existe pas, la fonction renvoie (None, 0). L'algorithme est le suivant:\n",
    "\n",
    "1. Marquer tous les sommets non visités. Créer un ensemble de tous les sommets non visités.\n",
    "\n",
    "2. Attribuer une valeur de distance nulle au sommet source et une valeur de distance infinie à tous les autres sommets.\n",
    "\n",
    "3. Définir le sommet source comme sommet actuel.\n",
    "\n",
    "4. Pour le sommet actuel, considérer tous ses voisins non visités et calculer leurs distances provisoires à travers le courant. (distance actuelle + poids de l'arête correspondante) \n",
    "\n",
    "5. Comparer la distance nouvellement calculée à la valeur assignée actuelle (peut être l'infini pour certains sommets) et attribuez la plus petite.\n",
    "\n",
    "6. Après avoir considéré tous les voisins non visités du sommet actuel, marquer le courant comme visité et le supprimer de l'ensemble non visité.\n",
    "\n",
    "7. De même, continuer pour tous les sommets jusqu'à ce que tous les nœuds soient visités."
   ]
  },
  {
   "cell_type": "code",
   "execution_count": null,
   "id": "8285b479",
   "metadata": {},
   "outputs": [],
   "source": [
    "def dijkstra(G, start, end, is_directed):\n",
    "    # conversions\n",
    "    graph = {}\n",
    "    # calculate total number of vertices\n",
    "    total = 0\n",
    "    for (a, b, w) in G:\n",
    "        if a > total:\n",
    "            total = a\n",
    "        if b > total:\n",
    "            total = b\n",
    "    for i in range(total + 1):\n",
    "        graph[i] = {}\n",
    "    for (a, b, w) in G:\n",
    "        graph[a][b] = w\n",
    "        if not is_directed: # if the graph is not directed add the same edge but in reverse direction\n",
    "            graph[b][a] = w\n",
    "    \n",
    "    # empty dictionary to hold distances\n",
    "    distances = {} \n",
    "    # list of vertices in path to current vertex\n",
    "    predecessors = {} \n",
    "    \n",
    "    # get all the vertices that need to be assessed\n",
    "    to_assess = graph.keys() \n",
    "\n",
    "    # set all initial distances to infinity\n",
    "    #  and no predecessor for any node\n",
    "    for node in graph:\n",
    "        distances[node] = float('inf')\n",
    "        predecessors[node] = None\n",
    "    \n",
    "    # set the initial collection of \n",
    "    # permanently labelled nodes to be empty\n",
    "    sp_set = []\n",
    "\n",
    "    # set the distance from the start vertex to be 0\n",
    "    distances[start] = 0\n",
    "    \n",
    "    # as long as there are still vertices to assess:\n",
    "    while len(sp_set) < len(to_assess):\n",
    "\n",
    "        # chop out any vertices with a permanent label\n",
    "        still_in = {node: distances[node]\\\n",
    "                    for node in [node for node in\\\n",
    "                    to_assess if node not in sp_set]}\n",
    "\n",
    "        # find the closest node to the current vertex\n",
    "        closest = min(still_in, key = distances.get)\n",
    "\n",
    "        # and add it to the permanently labelled vertices\n",
    "        sp_set.append(closest)\n",
    "        \n",
    "        # then for all the neighbours of \n",
    "        # the closest vertex (that was just added to\n",
    "        # the permanent set)\n",
    "        for node in graph[closest]:\n",
    "            # if a shorter path to that node can be found\n",
    "            if distances[node] > distances[closest] +\\\n",
    "                       graph[closest][node]:\n",
    "\n",
    "                # update the distance with \n",
    "                # that shorter distance\n",
    "                distances[node] = distances[closest] +\\\n",
    "                       graph[closest][node]\n",
    "\n",
    "                # set the predecessor for that node\n",
    "                predecessors[node] = closest\n",
    "                \n",
    "    # once the loop is complete the final \n",
    "    # path needs to be calculated - this can\n",
    "    # be done by backtracking through the predecessors\n",
    "    path = [end]\n",
    "    while start not in path:\n",
    "        if (predecessors[path[-1]] == None): # it means that path doesnt exist\n",
    "            return None, 0\n",
    "        path.append(predecessors[path[-1]])\n",
    "    \n",
    "    # return the path in order start -> end, and it's cost\n",
    "    return path[::-1], distances[end]\n",
    "\n",
    "# Example of dict :\n",
    "# graph = {\n",
    "#        '1': {'2': 1, '4':  1},\n",
    "#        '2': {'1': 1, '4':  1, '3':  2},\n",
    "#        '3': {'2':2, '4':1, '5':1, '6':1},\n",
    "#        '4': {'1':  1, '2':  1, '3':1, '5':2, '6':15},\n",
    "#        '5': {'3': 1, '4':2, '6':1},\n",
    "#        '6': {'3': 1, '4':15, '5':1}\n",
    "#     }"
   ]
  },
  {
   "cell_type": "markdown",
   "id": "3534e05b",
   "metadata": {},
   "source": [
    "### Transformer un graphe orienté en un graphe orienté semi-eulerien"
   ]
  },
  {
   "cell_type": "markdown",
   "id": "f851db13",
   "metadata": {},
   "source": [
    "Pour transformer notre graphe nous allons ajouter des aretes en nous basant sur la caractéristique suivante: \"Le graphe est semi-eulérien s'il a au maximum un sommet avec demi_degré_intérieur = demi_degré_extérieur + 1 et au maximum un sommet avec demi_degré_extérieur = demi_degré_intérieur + 1, tous les autres noeuds doivent avoir leur demi_degré_intérieur == demi_degré_extérieur\".\n",
    "\n",
    "Notre fonction commence par séparer les noeuds du graphe en 5 groupes en fonctions de leurs degrés:\n",
    "- demi_degré_intérieur == demi_degré_extérieur \n",
    "- demi_degré_intérieur + 1 == demi_degré_extérieur\n",
    "- demi_degré_intérieur == demi_degré_extérieur + 1\n",
    "- demi_degré_intérieur + 1 < demi_degré_extérieur\n",
    "- demi_degré_intérieur > demi_degré_extérieur + 1\n",
    "\n",
    "Ensuite on relie ces noeuds pour que le graphe puisse répondre à la propriété citée ci-dessus. Lors de la création de la nouvelle arête sa distance est calculée avec l'algorithme de Dijkstra, ainsi on garantit que la déneigeuse parcourt la bonne distance."
   ]
  },
  {
   "cell_type": "code",
   "execution_count": null,
   "id": "e29e26ed",
   "metadata": {},
   "outputs": [],
   "source": [
    "# Function converting directed graph to directed eulerian graph\n",
    "def directed_to_eulerian(G):\n",
    "    # create a copy of G to not modify the initial graph\n",
    "    G_copy = copy(G)\n",
    "    # create lists of vertices with their in and out degrees (vertice_number, inv, outv)\n",
    "    in_bigger = [] # in = out + 1\n",
    "    out_bigger = [] # out = in + 1\n",
    "    in_dominant = [] # in > out + 1\n",
    "    out_dominant = [] # out > in + 1\n",
    "    m = 0\n",
    "    for (a, b, w) in G:\n",
    "        if (a > m):\n",
    "            m = a\n",
    "        if (b > m):\n",
    "            m = b\n",
    "    for i in range(m + 1): # for each vertice of the graph count the number of in and out\n",
    "        inv = 0\n",
    "        outv = 0\n",
    "        for (a, b, w) in G:\n",
    "            if (i == a):\n",
    "                outv += 1\n",
    "            if (i == b):\n",
    "                inv += 1\n",
    "        # adding all vertices in their respective list        \n",
    "        if (inv == outv + 1):\n",
    "            in_bigger.append((i, inv, outv))\n",
    "        elif (outv == inv + 1):\n",
    "            out_bigger.append((i, inv, outv))\n",
    "        elif (inv > outv + 1):\n",
    "            in_dominant.append((i, inv, outv))\n",
    "        elif (inv != outv):\n",
    "            out_dominant.append((i, inv, outv))\n",
    "    \n",
    "    while (len(out_bigger) > 1 or len(in_bigger) > 1) or len(in_dominant) > 0 or len(out_dominant) > 0:\n",
    "        while (len(in_bigger) > 1):\n",
    "            (i, inv, outv) = in_bigger[0]\n",
    "            if (len(out_dominant) > 0):\n",
    "                (i2, inv2, outv2) = out_dominant[0]\n",
    "                # find the shortest distance using dijkstra to create new edge\n",
    "                path, dist = dijkstra(G, i, i2, is_directed=False)\n",
    "                # adding edge 1 -> 2\n",
    "                G_copy.append((i, i2, dist))\n",
    "                # removing first vertice from the list because it now has equla number of in and out\n",
    "                in_bigger.pop(0)\n",
    "                if (inv2 + 1 == outv2):\n",
    "                    out_dominant.pop(0) # if new inv == outv remove\n",
    "                elif (inv2 + 2 == outv2):\n",
    "                    out_dominant.pop(0)\n",
    "                    out_bigger.append(((i2, inv2 + 1, outv2))) # if 'out dominant' node becames 'out bigger' node\n",
    "                else:\n",
    "                    out_dominant[0] = (i2, inv2 + 1, outv2) # if its not equal just update new inv\n",
    "            elif (len(out_bigger) > 0):\n",
    "                (i2, inv2, outv2) = out_bigger[0]\n",
    "                # adding edge 1 -> 2\n",
    "                # find the shortest distance using dijkstra to create new edge\n",
    "                path, dist = dijkstra(G, i, i2, is_directed=False)\n",
    "                G_copy.append((i, i2, dist))\n",
    "                in_bigger.pop(0)\n",
    "                out_bigger.pop(0)\n",
    "            else:\n",
    "                print(\"1 The graph is not connected ! Try to redo the algorithm on a piece of paper !\")\n",
    "                return G_copy\n",
    "            \n",
    "        while (len(out_bigger) > 1):\n",
    "            (i, inv, outv) = out_bigger[0]\n",
    "            if (len(in_dominant) > 0):\n",
    "                (i2, inv2, outv2) = in_dominant[0]\n",
    "                # find the shortest distance using dijkstra to create new edge\n",
    "                path, dist = dijkstra(G, i2, i, is_directed=False)\n",
    "                G_copy.append((i2, i, dist))\n",
    "                out_bigger.pop(0)\n",
    "                if (outv2 + 1 == inv2):\n",
    "                    in_dominant.pop(0)\n",
    "                elif (outv2 + 2 == inv2):\n",
    "                    in_dominant.pop(0)\n",
    "                    in_bigger.append(((i2, inv2, outv2 + 1))) # if 'in dominant' node becames 'in bigger' node\n",
    "                else:\n",
    "                    in_dominant[0] = (i2, inv2, outv2 + 1)\n",
    "            elif (len(in_bigger) > 0):\n",
    "                (i2, inv2, outv2) = in_bigger[0]\n",
    "                # find the shortest distance using dijkstra to create new edge\n",
    "                path, dist = dijkstra(G, i2, i, is_directed=False)\n",
    "                G_copy.append((i2, i, dist))\n",
    "                out_bigger.pop(0)\n",
    "                in_bigger.pop(0)\n",
    "            else:\n",
    "                print(\"2 The graph is not connected ! Try to redo the algorithm on a piece of paper !\")\n",
    "                return G_copy\n",
    "            \n",
    "        while (len(in_dominant) > 0):\n",
    "            (i, inv, outv) = in_dominant[0]\n",
    "            if (len(out_dominant) > 0):\n",
    "                (i2, inv2, outv2) = out_dominant[0]\n",
    "                # find the shortest distance using dijkstra to create new edge\n",
    "                path, dist = dijkstra(G, i, i2, is_directed=False)\n",
    "                G_copy.append((i, i2, dist))\n",
    "                if (outv + 1 == inv):\n",
    "                    in_dominant.pop(0)\n",
    "                elif (outv + 2 == inv):\n",
    "                    in_dominant.pop(0)\n",
    "                    in_bigger.append((i, inv, outv + 1)) # if 'in dominant' node becames 'in bigger' node\n",
    "                else:\n",
    "                    in_dominant[0] = (i, inv, outv + 1)\n",
    "                # do the same for out_dominant\n",
    "                if (inv2 + 1 == outv2):\n",
    "                    out_dominant.pop(0)\n",
    "                elif (inv2 + 2 == outv2):\n",
    "                    out_dominant.pop(0)\n",
    "                    out_bigger.append((i2, inv2 + 1, outv2)) # if 'in dominant' node becames 'in bigger' node\n",
    "                else:\n",
    "                    out_dominant[0] = (i2, inv2 + 1, outv2)\n",
    "            elif (len(out_bigger) > 0):\n",
    "                (i2, inv2, outv2) = out_bigger[0]\n",
    "                # find the shortest distance using dijkstra to create new edge\n",
    "                path, dist = dijkstra(G, i, i2, is_directed=False)\n",
    "                G_copy.append((i, i2, dist))\n",
    "                out_bigger.pop(0)\n",
    "                if (outv + 1 == inv):\n",
    "                    in_dominant.pop(0)\n",
    "                elif (outv + 2 == inv):\n",
    "                    in_dominant.pop(0)\n",
    "                    in_bigger.append((i, inv, outv + 1)) # if 'in dominant' node becames 'in bigger' node\n",
    "                else:\n",
    "                    in_dominant[0] = (i, inv, outv + 1)\n",
    "            \n",
    "            else:\n",
    "                print(\"3 The graph is not connected ! Try to redo the algorithm on a piece of paper !\")\n",
    "                return G_copy\n",
    "            \n",
    "        while (len(out_dominant) > 0):\n",
    "            (i, inv, outv) = out_dominant[0]\n",
    "            if (len(in_dominant) > 0):\n",
    "                (i2, inv2, outv2) = in_dominant[0]\n",
    "                # find the shortest distance using dijkstra to create new edge\n",
    "                path, dist = dijkstra(G, i, i2, is_directed=False)\n",
    "                G_copy.append((i, i2, dist))\n",
    "                if (inv + 1 == outv):\n",
    "                    out_dominant.pop(0)\n",
    "                elif (inv + 2 == outv):\n",
    "                    out_dominant.pop(0)\n",
    "                    out_bigger.append((i, inv + 1, outv)) # if 'in dominant' node becames 'in bigger' node\n",
    "                else:\n",
    "                    out_dominant[0] = (i, inv + 1, outv)\n",
    "                # do the same for in_dominant\n",
    "                if (outv2 + 1 == inv2):\n",
    "                    in_dominant.pop(0)\n",
    "                elif (outv2 + 2 == inv2):\n",
    "                    in_dominant.pop(0)\n",
    "                    in_bigger.append((i2, inv2, outv2 + 1)) # if 'in dominant' node becames 'in bigger' node\n",
    "                else:\n",
    "                    in_dominant[0] = (i2, inv2, outv2 + 1)\n",
    "            elif (len(in_bigger) > 0):\n",
    "                (i2, inv2, outv2) = in_bigger[0]\n",
    "                # find the shortest distance using dijkstra to create new edge\n",
    "                path, dist = dijkstra(G, i2, i, is_directed=False)\n",
    "                G_copy.append((i2, i, dist))\n",
    "                in_bigger.pop(0)\n",
    "                if (inv + 1 == outv):\n",
    "                    out_dominant.pop(0)\n",
    "                elif (inv + 2 == outv):\n",
    "                    out_dominant.pop(0)\n",
    "                    out_bigger.append((i, inv + 1, outv)) # if 'in dominant' node becames 'in bigger' node\n",
    "                else:\n",
    "                    out_dominant[0] = (i, inv + 1, outv)\n",
    "            \n",
    "            else:\n",
    "                print(\"4 The graph is not connected ! Try to redo the algorithm on a piece of paper !\")\n",
    "                return G_copy\n",
    "                \n",
    "    return G_copy        "
   ]
  },
  {
   "cell_type": "markdown",
   "id": "d83e3108",
   "metadata": {},
   "source": [
    "### Trouver un chemin eulerien sur un graphe orienté"
   ]
  },
  {
   "cell_type": "markdown",
   "id": "a494ca51",
   "metadata": {},
   "source": [
    "Pour trouver le chemin eulerien nous allons utiliser une version un peu modifiée de l'algorithme de Hierholzer. Dans la version classique cet algorithme permet de rechercher non pas le chemin mais le circuit eulerien. Pour trouver le chemin il suffit juste de bien définir le noeud de départ. Et la condition pour le noeud de départ est que son demi-degre degré extérieur soit supérieur à son demi-degré intérieur."
   ]
  },
  {
   "cell_type": "code",
   "execution_count": null,
   "id": "5e821ced",
   "metadata": {},
   "outputs": [],
   "source": [
    "# Hierholzer’s Algorithm for directed graph\n",
    "\n",
    "# function converting our graph to an adj list\n",
    "def graph_to_adj(G):\n",
    "    m = 0\n",
    "    for (a, b, w) in G:\n",
    "        if (a > m):\n",
    "            m = a\n",
    "        if (b > m):\n",
    "            m = b\n",
    "    adj = [[] for _ in range(m + 1)]\n",
    "    \n",
    "    for (a, b, w) in G:\n",
    "        adj[a].append(b)\n",
    "    return adj\n",
    "    \n",
    "def get_eulerian_path(G):\n",
    "    adj = graph_to_adj(G)\n",
    "    # adj represents the adjacency list of\n",
    "    # the directed graph\n",
    "    # edge_count represents the number of edges\n",
    "    # emerging from a vertex\n",
    "        \n",
    "    edge_count = dict()\n",
    "  \n",
    "    for i in range(len(adj)):\n",
    "  \n",
    "        # find the count of edges to keep track\n",
    "        # of unused edges\n",
    "        edge_count[i] = len(adj[i])\n",
    "  \n",
    "    if len(adj) == 0:\n",
    "        return # empty graph\n",
    "  \n",
    "    # Maintain a stack to keep vertices\n",
    "    curr_path = []\n",
    "  \n",
    "    # vector to store final circuit\n",
    "    circuit = []\n",
    "  \n",
    "    # find the start vertex (indeg + 1 = outdeg)\n",
    "    # create lists of vertices with their in and out (vertice_number, inv, outv)\n",
    "    start_vertex = (0, 0, 0) # out = in + 1\n",
    "    m = 0\n",
    "    for (a, b, w) in G:\n",
    "        if (a > m):\n",
    "            m = a\n",
    "        if (b > m):\n",
    "            m = b\n",
    "    for i in range(m + 1): # for each vertice of the graph count the number of in and out\n",
    "        inv = 0\n",
    "        outv = 0\n",
    "        for (a, b, w) in G:\n",
    "            if (i == a):\n",
    "                outv += 1\n",
    "            if (i == b):\n",
    "                inv += 1\n",
    "        # adding all vertices in their respective list \n",
    "        if (outv == inv + 1):\n",
    "            start_vertex = (i, inv, outv)\n",
    "    \n",
    "    # find the end vertex (outdeg + 1 = indeg) if there is no end vertex\n",
    "    \n",
    "    \n",
    "    # start from the start_vertex, if there is no start vertex, start from 0\n",
    "    curr_path.append(start_vertex[0])\n",
    "    curr_v = start_vertex[0] # Current vertex\n",
    "  \n",
    "    while len(curr_path): # while stack isn't empty\n",
    "  \n",
    "        # If there's remaining edge\n",
    "        if edge_count[curr_v]: # while in edge_count list there is still some edges \n",
    "  \n",
    "            # Push the vertex\n",
    "            curr_path.append(curr_v)\n",
    "  \n",
    "            # Find the next vertex using an edge\n",
    "            next_v = adj[curr_v][-1]\n",
    "  \n",
    "            # and remove that edge\n",
    "            edge_count[curr_v] -= 1\n",
    "            adj[curr_v].pop()\n",
    "  \n",
    "            # Move to next vertex\n",
    "            curr_v = next_v\n",
    "  \n",
    "        # back-track to find remaining path\n",
    "        else:\n",
    "            circuit.append(curr_v)\n",
    "  \n",
    "            # Back-tracking\n",
    "            curr_v = curr_path[-1]\n",
    "            curr_path.pop()\n",
    "  \n",
    "    # we've got the path, now return its reverse\n",
    "    rev = []\n",
    "    for item in circuit[::-1]:\n",
    "        rev.append(item)\n",
    "    return rev"
   ]
  },
  {
   "cell_type": "markdown",
   "id": "294151b3",
   "metadata": {},
   "source": [
    "### Remplacer les routes qui n'existent pas"
   ]
  },
  {
   "cell_type": "markdown",
   "id": "28a623f4",
   "metadata": {},
   "source": [
    "On remplace les arrêtes qui ne devraient pas exister par le chemin le plus court entre les deux noeuds en utilisant l'algorithme de dijkstra. On l'execute une premiere fois en considérant le graph comme orienté, et si on ne peut trouver de resultat (cul de sac par exemple), on le relance en considérant cette fois que le graph n'est pas orienté.\n",
    "On remplace ensuite les deux noeuds par le chemin correspondant."
   ]
  },
  {
   "cell_type": "code",
   "execution_count": null,
   "id": "303fc1e7",
   "metadata": {},
   "outputs": [],
   "source": [
    "'''def graph_to_adj_weighted(G):\n",
    "    m = 0\n",
    "    for (a, b, w) in G:\n",
    "        if (a > m):\n",
    "            m = a\n",
    "        if (b > m):\n",
    "            m = b\n",
    "    adj = [[] for _ in range(m + 1)]\n",
    "    \n",
    "    for (a, b, w) in G:\n",
    "        adj[a].append((b,w))\n",
    "    return adj'''\n",
    "\n",
    "def is_in_graph(G, x, y):\n",
    "    for (a, b, w) in G:\n",
    "        if (x == a and y == b):\n",
    "            return True\n",
    "    return False\n",
    "\n",
    "'''def replace_nodes(G, arr, adj):\n",
    "    arr_g = copy(arr)\n",
    "    i = 0\n",
    "    while i < len(arr_g)-1:\n",
    "        print(\"TOTAL ARRAY IS \",arr_g)\n",
    "        a,b = arr_g[i],arr_g[i+1]\n",
    "        adj_a = adj[a]\n",
    "        flag = False\n",
    "        print(\"DEBUUUUG \", a, b)\n",
    "        for e in adj[a]: #check si b est dans la liste d'adjacence de a\n",
    "            if (e[0] == b):\n",
    "                flag = True\n",
    "                break\n",
    "        if (flag != True):\n",
    "            p, d = dijkstra(G, a, b, is_directed=True)\n",
    "            \n",
    "            if (d == 0):\n",
    "                p, d = dijkstra(G, a, b, is_directed=False)\n",
    "            print(\"DIJKSTRA \", p)\n",
    "            for e in p:\n",
    "                arr_g.insert(i, e)\n",
    "                i += 1\n",
    "            \n",
    "            arr_g.pop(i)\n",
    "            arr_g.pop(i)\n",
    "            i += 10\n",
    "        i+= 1\n",
    "    return arr_g'''\n",
    "\n",
    "def replace_nodes(G, path):\n",
    "    i = 0\n",
    "    while i < len(path) - 1:\n",
    "        a = path[i]\n",
    "        b = path[i + 1]\n",
    "        if (not is_in_graph(G, a, b)):\n",
    "            p, d = dijkstra(G, a, b, is_directed=True)\n",
    "            if (d == 0):\n",
    "                p, d = dijkstra(G, a, b, is_directed=False)\n",
    "            path.pop(i)\n",
    "            path.pop(i)\n",
    "            for e in p:\n",
    "                path.insert(i, e)\n",
    "                i += 1\n",
    "            if (d != 0):\n",
    "                i -= 1\n",
    "        else:\n",
    "            i += 1\n",
    "    return path"
   ]
  },
  {
   "cell_type": "markdown",
   "id": "31767ed6",
   "metadata": {},
   "source": [
    "## Démonstration sur un exemple de graphe"
   ]
  },
  {
   "cell_type": "markdown",
   "id": "b4f8614d",
   "metadata": {},
   "source": [
    "### Fonction permettant de visualiser un graphe"
   ]
  },
  {
   "cell_type": "code",
   "execution_count": null,
   "id": "ce9cc098",
   "metadata": {},
   "outputs": [],
   "source": [
    "import networkx as nx\n",
    "\n",
    "def print_graph(G):\n",
    "    '''\n",
    "    Function printing a graph G by converting it to nxdigraph.\n",
    "    '''\n",
    "    maxi = 0\n",
    "    for (n1, n2, w) in G:\n",
    "        if (n1 > maxi):\n",
    "            maxi = n1\n",
    "        if (n2 > maxi):\n",
    "            maxi = n2\n",
    "    new_graph = nx.MultiDiGraph()\n",
    "    new_graph.add_nodes_from(range(0, maxi + 1)) # adding all nodes to the graph\n",
    "    for (n1, n2, w) in G: # adding all edges with their weight\n",
    "        new_graph.add_edge(n1, n2, weight=w)\n",
    "    nx.draw(new_graph, with_labels=True, connectionstyle='arc3,rad=0.2')"
   ]
  },
  {
   "cell_type": "markdown",
   "id": "adf91a94",
   "metadata": {},
   "source": [
    "### Quelques exemples de graphes"
   ]
  },
  {
   "cell_type": "code",
   "execution_count": null,
   "id": "08f66da9",
   "metadata": {},
   "outputs": [],
   "source": [
    "G = [(0,3,7),(0,2,3),\n",
    "    (1,2,1),(1,7,2),\n",
    "    (2,5,2), (2,4,3), (2,3,6),\n",
    "    (3,8,9), (3,0,2),\n",
    "    (4,5,2), (4,8,3),\n",
    "    (5,4,2),(5,1,4),\n",
    "    (6,8,2), (6,5,6), (6,7,4),\n",
    "    (7,6,4), (7,9,4),\n",
    "    (8,4,3), (8,3,3),\n",
    "    (9,6,4),( 9,11,1), (10, 11, 1)]\n",
    "\n",
    "#G = [(0, 1, 3), (1, 2, 3), (2, 3, 3), (3, 0, 3), (1, 3, 3), (0, 2, 3)]\n",
    "\n",
    "#G = [(1, 0, 3), (2, 0, 3), (2, 1, 3),(3, 2, 4), (0, 3, 3), (3, 4, 3)]\n",
    "\n",
    "#G = [(0, 1, 3), (1, 2, 3), (2, 0, 5)]\n",
    "\n",
    "#G = [(0, 1, 3), (2, 1, 4)]\n",
    "\n",
    "#G = [(2, 1, 3), (1, 0, 3), (0, 2, 3), (0, 3, 5), (3, 4, 5), (4, 0, 5)]\n",
    "\n",
    "#G = [(2, 1, 3), (1, 0, 3), (0, 2, 3), (0, 3, 4), (3, 4, 3), (1, 3, 3)]"
   ]
  },
  {
   "cell_type": "code",
   "execution_count": null,
   "id": "4ca207bc",
   "metadata": {},
   "outputs": [],
   "source": [
    "# Copy our graph\n",
    "G_copy = copy(G)\n",
    "# Print the initial graph and its edges list\n",
    "print_graph(G)\n",
    "print(G)"
   ]
  },
  {
   "cell_type": "code",
   "execution_count": null,
   "id": "51affe8a",
   "metadata": {
    "scrolled": true
   },
   "outputs": [],
   "source": [
    "# Convert the graph to eulerian\n",
    "G_eul = directed_to_eulerian(G_copy)\n",
    "# Print the new eulerian graph and its edges list\n",
    "print(G_eul)\n",
    "print_graph(G_eul)"
   ]
  },
  {
   "cell_type": "code",
   "execution_count": 12,
   "id": "262ebfc9",
   "metadata": {},
   "outputs": [
    {
     "name": "stdout",
     "output_type": "stream",
     "text": [
      "[10, 11, 6, 7, 9, 6, 5, 2, 3, 0, 2, 4, 1, 7, 6, 8, 3, 0, 3, 8, 4, 5, 1, 2, 5, 4, 8, 9, 11]\n"
     ]
    }
   ],
   "source": [
    "# Find the eulerian path\n",
    "eulerian_path = get_eulerian_path(G_eul)\n",
    "# Print eulerian path\n",
    "print(eulerian_path)"
   ]
  },
  {
   "cell_type": "code",
   "execution_count": 13,
   "id": "6301c5f2",
   "metadata": {
    "scrolled": true
   },
   "outputs": [
    {
     "name": "stdout",
     "output_type": "stream",
     "text": [
      "[10, 11, 9, 6, 7, 9, 6, 5, 1, 2, 3, 0, 2, 4, 5, 1, 7, 6, 8, 3, 0, 3, 8, 4, 5, 1, 2, 5, 4, 8, 4, 5, 1, 7, 9, 11]\n"
     ]
    }
   ],
   "source": [
    "# Find the real path\n",
    "true_path = replace_nodes(G, eulerian_path)\n",
    "# Print the final real path\n",
    "print(true_path)"
   ]
  },
  {
   "cell_type": "markdown",
   "id": "9e1f0ff9",
   "metadata": {},
   "source": [
    "### Test avec une vraie zone de Monreal"
   ]
  },
  {
   "cell_type": "code",
   "execution_count": 14,
   "id": "30468a9e",
   "metadata": {},
   "outputs": [],
   "source": [
    "real_G = [(2187161104, 301495983, 42.542), (2187161104, 2187161105, 37.878), (2187161104, 2187161117, 67.978), (2187161104, 2187161118, 101.438), (301495983, 615017544, 66.387), (301495983, 615017546, 73.866), (301495983, 2187162903, 40.899), (2187161105, 2187161113, 34.982), (2187161105, 2187161106, 121.617), (2187161117, 615017544, 40.396), (2187161117, 371474024, 69.239), (2187161118, 2187161106, 44.747), (2187161118, 371474024, 73.995), (2187161118, 615001828, 38.42), (2187161113, 2187161109, 140.759), (2187161113, 615017546, 41.433), (2187161106, 2187161109, 37.106), (2187161109, 615001834, 37.605), (615001834, 615001828, 84.301), (615001834, 615001836, 122.592), (615017546, 2187162922, 40.279), (615017544, 615017532, 74.543), (615017544, 2187162910, 40.654), (371474024, 615001826, 38.812), (615001828, 615001826, 77.42), (615001828, 615001830, 15.593), (615017532, 248511702, 71.909), (615017532, 2188531350, 72.924), (615017532, 2187162915, 41.737), (248511702, 2188531370, 32.518), (248511702, 2187162887, 41.736), (2188531350, 2188531370, 85.13), (2188531350, 615001807, 39.419), (2187162915, 2187162880, 41.084), (2187162915, 2187162900, 247.958), (2187162915, 2187162918, 36.514), (615017534, 2188531388, 35.57), (615017534, 2189049774, 34.301), (615017534, 615017535, 77.436), (2188531388, 2188531373, 38.236), (2188531388, 2188531381, 38.503), (2188531388, 2188531396, 119.103), (2189049774, 2189049736, 113.266), (2189049774, 2189049737, 37.578), (615017535, 2189049755, 34.145), (615017535, 2188531375, 37.001), (615017535, 615017537, 71.644), (2189049755, 2189049737, 40.629), (2189049755, 2189049740, 5.584), (2188531375, 2187162920, 4.948), (2188531375, 2188531381, 38.693), (615017537, 2187162900, 42.729), (615017537, 2189049760, 39.307), (615017537, 615017543, 70.628), (2187162900, 2187162890, 37.378), (2187162900, 2187162898, 38.86), (2189049760, 2189049759, 248.819), (2189049760, 2189049777, 36.955), (2189049760, 2189049765, 36.575), (615017543, 615017538, 67.255), (615017543, 2189049757, 38.899), (615017543, 2187162905, 43.081), (615017538, 2187162893, 39.867), (615017538, 2189049739, 41.996), (2187162893, 2187162903, 247.85699999999997), (2187162893, 2187162912, 35.006), (2189049739, 2189049754, 34.856), (2189049757, 2189049754, 32.723), (2189049757, 2189049763, 249.076), (2189049757, 2189049765, 33.25), (2187162905, 2187162898, 31.656), (2187162905, 2187162912, 32.537), (2187162905, 2187162910, 248.53), (2187162910, 2187162880, 32.431), (2187162910, 2187162885, 33.797), (2187162922, 2187162903, 74.343), (615017584, 2189049736, 180.975), (615017584, 615017585, 84.696), (2140361825, 615001811, 228.54), (2140361825, 615001830, 10.936), (615001811, 9256960176, 7.414), (615001811, 615001817, 15.746), (615001826, 615001807, 79.669), (2189049736, 2189049764, 39.572), (615017585, 615017586, 70.446), (615017585, 2189049771, 40.821), (615017586, 615017587, 64.125), (615017586, 2189049759, 40.295), (2189049771, 2189049732, 35.021), (2189049771, 2189049764, 181.114), (2189049771, 2189049768, 136.215), (615017587, 2189049763, 40.334), (2189049759, 2189049732, 35.578), (2189049759, 2189049742, 34.047), (2189049763, 2189049742, 30.881), (2189049763, 2189049761, 35.082), (2188531370, 9306783005, 4.733), (2188531370, 615001817, 41.681000000000004), (615001807, 615001817, 83.134), (2188531362, 2187162887, 127.62), (2188531362, 2187162920, 121.265), (2188531362, 2188531384, 37.449), (2187162887, 2187162918, 35.579), (2187162887, 9306783005, 76.72800000000001), (2187162920, 2187162890, 34.32), (2188531384, 2188531381, 126.342), (2188531384, 2188531392, 184.89), (2188531384, 2188531394, 38.902), (2188531373, 2188531386, 118.978), (9306783005, 9256960177, 41.67200000000001), (9306783005, 2188531392, 33.845), (615001817, 9256960177, 7.531), (2188531386, 2188531396, 38.422), (9256960176, 9256960177, 15.667), (9256960177, 615001803, 75.58300000000001), (615001803, 1764326134, 41.367000000000004), (2187162903, 2187162885, 33.131), (1764326134, 2188531392, 43.505), (1764326134, 2188531394, 166.316), (2188531394, 2188531396, 7.358), (615001836, 615001851, 75.47500000000001), (2187162880, 2187162898, 248.257), (2187162885, 2187162912, 248.182), (2187162918, 2187162890, 248.475), (2189049732, 2189049777, 248.402), (2189049777, 2189049740, 34.534), (2189049764, 2189049737, 115.259), (2189049764, 2189049768, 41.31), (2189049754, 2189049761, 249.049), (2189049740, 2189049768, 111.751), (2189049742, 2189049765, 248.955)]"
   ]
  },
  {
   "cell_type": "code",
   "execution_count": 24,
   "id": "b033bc1d",
   "metadata": {},
   "outputs": [
    {
     "ename": "ModuleNotFoundError",
     "evalue": "No module named 'simplify_vertices'",
     "output_type": "error",
     "traceback": [
      "\u001b[0;31m---------------------------------------------------------------------------\u001b[0m",
      "\u001b[0;31mModuleNotFoundError\u001b[0m                       Traceback (most recent call last)",
      "Input \u001b[0;32mIn [24]\u001b[0m, in \u001b[0;36m<cell line: 4>\u001b[0;34m()\u001b[0m\n\u001b[1;32m      2\u001b[0m \u001b[38;5;28;01mimport\u001b[39;00m \u001b[38;5;21;01msys\u001b[39;00m\n\u001b[1;32m      3\u001b[0m sys\u001b[38;5;241m.\u001b[39mpath\u001b[38;5;241m.\u001b[39mappend(\u001b[38;5;124m'\u001b[39m\u001b[38;5;124m./scripts\u001b[39m\u001b[38;5;124m'\u001b[39m)\n\u001b[0;32m----> 4\u001b[0m \u001b[38;5;28;01mimport\u001b[39;00m \u001b[38;5;21;01msimplify_vertices\u001b[39;00m \u001b[38;5;28;01mas\u001b[39;00m \u001b[38;5;21;01msv\u001b[39;00m\n",
      "\u001b[0;31mModuleNotFoundError\u001b[0m: No module named 'simplify_vertices'"
     ]
    }
   ],
   "source": [
    "# Import functions to convert the graph\n",
    "import sys\n",
    "sys.path.append('./scripts')\n",
    "import simplify_vertices as sv"
   ]
  },
  {
   "cell_type": "code",
   "execution_count": 25,
   "id": "01724c3a",
   "metadata": {},
   "outputs": [
    {
     "ename": "NameError",
     "evalue": "name 'sv' is not defined",
     "output_type": "error",
     "traceback": [
      "\u001b[0;31m---------------------------------------------------------------------------\u001b[0m",
      "\u001b[0;31mNameError\u001b[0m                                 Traceback (most recent call last)",
      "Input \u001b[0;32mIn [25]\u001b[0m, in \u001b[0;36m<cell line: 2>\u001b[0;34m()\u001b[0m\n\u001b[1;32m      1\u001b[0m \u001b[38;5;66;03m# Convert vertices\u001b[39;00m\n\u001b[0;32m----> 2\u001b[0m extracted \u001b[38;5;241m=\u001b[39m \u001b[43msv\u001b[49m\u001b[38;5;241m.\u001b[39mextract_vertices(real_G)\n\u001b[1;32m      3\u001b[0m new_real_G \u001b[38;5;241m=\u001b[39m sv\u001b[38;5;241m.\u001b[39mreplace_vertices(real_G, extracted)\n",
      "\u001b[0;31mNameError\u001b[0m: name 'sv' is not defined"
     ]
    }
   ],
   "source": [
    "# Convert vertices\n",
    "extracted = sv.extract_vertices(real_G)\n",
    "new_real_G = sv.replace_vertices(real_G, extracted)"
   ]
  },
  {
   "cell_type": "code",
   "execution_count": null,
   "id": "f16d7490",
   "metadata": {},
   "outputs": [],
   "source": [
    "# Convert graph to eulerian\n",
    "G_copy = copy(real_G)\n",
    "G_eul = directed_to_eulerian(G_copy)\n",
    "print(G_eul)"
   ]
  },
  {
   "cell_type": "code",
   "execution_count": null,
   "id": "a98033f6",
   "metadata": {
    "scrolled": false
   },
   "outputs": [],
   "source": [
    "# Find the eulerian path\n",
    "eulerian_path = get_eulerian_path(G_eul)\n",
    "print(eulerian_path)\n",
    "print(len(eulerian_path))"
   ]
  },
  {
   "cell_type": "code",
   "execution_count": null,
   "id": "8799b557",
   "metadata": {},
   "outputs": [],
   "source": [
    "# Find the real path\n",
    "true_path = replace_nodes(G_copy, eulerian_path)\n",
    "# Print the final real path\n",
    "def replace_vertices_back_in_path(path, l):\n",
    "    for i in range(len(path)):\n",
    "        path[i] = l[path[i]]\n",
    "    return path\n",
    "# J'ai directemenet copie la fct psk ca marchait pas le import\n",
    "replace_vertices_back_in_path(true_path, extracted)\n",
    "#print(replace_vertices_back_in_path(true_path, extracted))\n",
    "print(true_path)\n",
    "print(len(true_path))\n",
    "print(len(G_copy))\n",
    "print(G_copy)\n",
    "\n",
    "def check_if_ok(G, path):\n",
    "    for i in range(len(path) - 1):\n",
    "        first = path[i]\n",
    "        second = path[i + 1]\n",
    "        flag = True\n",
    "        for (a, b, w) in G:\n",
    "            if (a == first and b == second) or (a == second and b == first):\n",
    "                flag = False\n",
    "                break\n",
    "        if (flag):\n",
    "            print(\"debug \", first, second)\n",
    "            return False\n",
    "    return True\n"
   ]
  },
  {
   "cell_type": "code",
   "execution_count": 21,
   "id": "5f8d164e",
   "metadata": {},
   "outputs": [],
   "source": [
    "def calc_city_length(G):\n",
    "    l = 0\n",
    "    for (n1, n2, w) in G:\n",
    "        l += w\n",
    "    return l\n",
    "def calc_path_length(G, path):\n",
    "    l = 0\n",
    "    for i in range(len(path) - 1):\n",
    "        first = path[i]\n",
    "        second = path[i + 1]\n",
    "        for (a, b, w) in G:\n",
    "            if (a == first and b == second):\n",
    "                l += w\n",
    "    return l\n",
    "            "
   ]
  },
  {
   "cell_type": "code",
   "execution_count": 22,
   "id": "2d49d9be",
   "metadata": {},
   "outputs": [
    {
     "data": {
      "text/plain": [
       "97"
      ]
     },
     "execution_count": 22,
     "metadata": {},
     "output_type": "execute_result"
    }
   ],
   "source": [
    "calc_city_length(G_eul)"
   ]
  },
  {
   "cell_type": "code",
   "execution_count": 23,
   "id": "a183b79d",
   "metadata": {},
   "outputs": [
    {
     "data": {
      "text/plain": [
       "114"
      ]
     },
     "execution_count": 23,
     "metadata": {},
     "output_type": "execute_result"
    }
   ],
   "source": [
    "calc_path_length(G_eul, true_path)"
   ]
  },
  {
   "cell_type": "code",
   "execution_count": 27,
   "id": "9731147f",
   "metadata": {},
   "outputs": [],
   "source": [
    "import pickle\n",
    "nxe = []\n",
    "\n",
    "#cela nous permet directement de charger la liste de 55 graph sans passer par les calculs\n",
    "with open(\"../data/graph1.txt\", \"rb\") as f:\n",
    "    nxe = pickle.load(f)"
   ]
  },
  {
   "cell_type": "code",
   "execution_count": null,
   "id": "830cc95a",
   "metadata": {},
   "outputs": [],
   "source": [
    "def calc_average_lengths(Gs):\n",
    "    lG, lP = 0, 0\n",
    "    print (len(Gs))\n",
    "    for i in len(Gs)-1:\n",
    "        g = Gs[i]\n",
    "        print (\"testLoop\")\n",
    "        G_copy = copy(g)\n",
    "        print (\"testLoop2\")\n",
    "        G_eul = directed_to_eulerian(G_copy)\n",
    "        print (\"testLoop3\")\n",
    "        epath = get_eulerian_path(G_eul) \n",
    "        print (\"testLoop4\")\n",
    "        path = replace_nodes(G_copy, epath)\n",
    "        print (\"testLoop5\")\n",
    "        lG += calc_city_length(G_eu6l)\n",
    "        print (\"testLoop6\")\n",
    "        lP += calc_path_length(G_eul, path)\n",
    "        print (\"testLoop7\")\n",
    "        print(lG)\n",
    "    return (lG, lP)"
   ]
  },
  {
   "cell_type": "code",
   "execution_count": 41,
   "id": "4d6dcccb",
   "metadata": {},
   "outputs": [
    {
     "name": "stdout",
     "output_type": "stream",
     "text": [
      "55\n",
      "testLoop\n"
     ]
    },
    {
     "ename": "KeyboardInterrupt",
     "evalue": "",
     "output_type": "error",
     "traceback": [
      "\u001b[0;31m---------------------------------------------------------------------------\u001b[0m",
      "\u001b[0;31mKeyboardInterrupt\u001b[0m                         Traceback (most recent call last)",
      "Input \u001b[0;32mIn [41]\u001b[0m, in \u001b[0;36m<cell line: 1>\u001b[0;34m()\u001b[0m\n\u001b[0;32m----> 1\u001b[0m (a,b) \u001b[38;5;241m=\u001b[39m \u001b[43mcalc_average_lengths\u001b[49m\u001b[43m(\u001b[49m\u001b[43mnxe\u001b[49m\u001b[43m)\u001b[49m\n",
      "Input \u001b[0;32mIn [38]\u001b[0m, in \u001b[0;36mcalc_average_lengths\u001b[0;34m(Gs)\u001b[0m\n\u001b[1;32m      5\u001b[0m \u001b[38;5;28mprint\u001b[39m (\u001b[38;5;124m\"\u001b[39m\u001b[38;5;124mtestLoop\u001b[39m\u001b[38;5;124m\"\u001b[39m)\n\u001b[1;32m      6\u001b[0m G_copy \u001b[38;5;241m=\u001b[39m copy(g)\n\u001b[0;32m----> 7\u001b[0m G_eul \u001b[38;5;241m=\u001b[39m \u001b[43mdirected_to_eulerian\u001b[49m\u001b[43m(\u001b[49m\u001b[43mG_copy\u001b[49m\u001b[43m)\u001b[49m\n\u001b[1;32m      8\u001b[0m epath \u001b[38;5;241m=\u001b[39m get_eulerian_path(G_eul) \n\u001b[1;32m      9\u001b[0m path \u001b[38;5;241m=\u001b[39m replace_nodes(G_copy, epath)\n",
      "Input \u001b[0;32mIn [5]\u001b[0m, in \u001b[0;36mdirected_to_eulerian\u001b[0;34m(G)\u001b[0m\n\u001b[1;32m     18\u001b[0m outv \u001b[38;5;241m=\u001b[39m \u001b[38;5;241m0\u001b[39m\n\u001b[1;32m     19\u001b[0m \u001b[38;5;28;01mfor\u001b[39;00m (a, b, w) \u001b[38;5;129;01min\u001b[39;00m G:\n\u001b[0;32m---> 20\u001b[0m     \u001b[38;5;28;01mif\u001b[39;00m (\u001b[43mi\u001b[49m\u001b[43m \u001b[49m\u001b[38;5;241;43m==\u001b[39;49m\u001b[43m \u001b[49m\u001b[43ma\u001b[49m):\n\u001b[1;32m     21\u001b[0m         outv \u001b[38;5;241m+\u001b[39m\u001b[38;5;241m=\u001b[39m \u001b[38;5;241m1\u001b[39m\n\u001b[1;32m     22\u001b[0m     \u001b[38;5;28;01mif\u001b[39;00m (i \u001b[38;5;241m==\u001b[39m b):\n",
      "\u001b[0;31mKeyboardInterrupt\u001b[0m: "
     ]
    }
   ],
   "source": [
    "(a,b) = calc_average_lengths(nxe)"
   ]
  },
  {
   "cell_type": "code",
   "execution_count": null,
   "id": "9b16bf75",
   "metadata": {},
   "outputs": [],
   "source": [
    "print(a,b)"
   ]
  }
 ],
 "metadata": {
  "kernelspec": {
   "display_name": "Python 3 (ipykernel)",
   "language": "python",
   "name": "python3"
  },
  "language_info": {
   "codemirror_mode": {
    "name": "ipython",
    "version": 3
   },
   "file_extension": ".py",
   "mimetype": "text/x-python",
   "name": "python",
   "nbconvert_exporter": "python",
   "pygments_lexer": "ipython3",
   "version": "3.9.7"
  }
 },
 "nbformat": 4,
 "nbformat_minor": 5
}
