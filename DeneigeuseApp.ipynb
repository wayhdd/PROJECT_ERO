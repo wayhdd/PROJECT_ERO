{
 "cells": [
  {
   "cell_type": "markdown",
   "id": "7662b6d2",
   "metadata": {},
   "source": [
    "# déneigeuse application"
   ]
  },
  {
   "cell_type": "markdown",
   "id": "08afa855",
   "metadata": {},
   "source": [
    "Après avoir explicité la théorie, nous cherchons maintenant l'appliquer à un cas concrêt à la ville de monréal. Le but est de répartir les taches entre les différentes déneigeuses dans le but de parcourir Montréal le plus efficacement possible."
   ]
  },
  {
   "cell_type": "markdown",
   "id": "d90a60c1",
   "metadata": {},
   "source": [
    "## Mise en place de l'application"
   ]
  },
  {
   "cell_type": "code",
   "execution_count": 1,
   "id": "6461a8af",
   "metadata": {},
   "outputs": [],
   "source": [
    "#IMPORT\n",
    "import osmnx as ox"
   ]
  },
  {
   "cell_type": "markdown",
   "id": "8cbfa6f3",
   "metadata": {},
   "source": [
    "Le code ci-dessous est mis en commentaire dans le but d'éviter de récréer les graph à chaque fois, ce qui prend beaucoup de temps."
   ]
  },
  {
   "cell_type": "code",
   "execution_count": 27,
   "id": "2ab6595d",
   "metadata": {},
   "outputs": [],
   "source": [
    "'''place1 = \"Le Sud-Ouest, Montreal, Canada\"\n",
    "place2 = \"LaSalle, Montreal, Canada\" \n",
    "place3 = \"Anjou, Montreal, Canada\"\n",
    "place4 = \"Rivière-des-Prairies–Pointe-aux-Trembles, Montreal, Canada\"\n",
    "place5 = \"L'Ile-Bizard–Sainte-Geneviève, Montreal, Canada\"\n",
    "place6 = \"Ahuntsic-Cartierville, Montreal, Canada\"\n",
    "place7 = \"L'Île-Bizard–Sainte-Geneviève, Montreal, Canada\"\n",
    "place8 = \"Outremont, Montreal, Canada\"\n",
    "place9 = \"Mercier–Hochelaga-Maisonneuve, Montreal, Canada\"\n",
    "place10 = \"Borough of Lachine, Canada\"\n",
    "place11 = \"Pierrefonds-Roxboro, Montreal, Canada\"\n",
    "place12 = \"Verdun, Montreal, Canada\"\n",
    "place13 = \"L'Île-Bizard–Sainte-Geneviève, Montreal, Canada\"\n",
    "place14 = \"Montréal-Nord, Montreal, Canada\"\n",
    "place15 = \"Montréal-Est, Montreal, Canada\"\n",
    "place16 = \"Saint-Laurent, Montreal, Canada\"\n",
    "place17 = \"Rosemont–La Petite-Patrie, Montreal, Canada\"\n",
    "place18 = \"Ville-Marie, Montreal, Canada\"\n",
    "place19 = \"Villeray–Saint-Michel–Parc-Extension, Montreal, Canada\"\n",
    "\n",
    "def create_save(\n",
    "\n",
    "G = ox.graph_from_place(place1, network_type=\"walk\")\n",
    "G2 = ox.graph_from_place(place2, network_type=\"walk\")\n",
    "G3 = ox.graph_from_place(place3, network_type=\"walk\")\n",
    "ox.save_graphml(G3, 'data/graph3.graphml')\n",
    "G4 = ox.graph_from_place(place4, network_type=\"walk\")\n",
    "ox.save_graphml(G4, 'data/graph4.graphml')\n",
    "G5 = ox.graph_from_place(place5, network_type=\"walk\")\n",
    "ox.save_graphml(G5, 'data/graph5.graphml')\n",
    "G6 = ox.graph_from_place(place6, network_type=\"walk\")\n",
    "ox.save_graphml(G6, 'data/graph6.graphml')\n",
    "G7 = ox.graph_from_place(place7, network_type=\"walk\")\n",
    "ox.save_graphml(G7, 'data/graph7.graphml')\n",
    "G8 = ox.graph_from_place(place8, network_type=\"walk\")\n",
    "ox.save_graphml(G8, 'data/graph8.graphml')\n",
    "G9 = ox.graph_from_place(place9, network_type=\"walk\")\n",
    "ox.save_graphml(G9, 'data/graph9.graphml')\n",
    "G10 = ox.graph_from_place(place10, network_type=\"walk\")\n",
    "ox.save_graphml(G10, 'data/graph10.graphml')\n",
    "G11 = ox.graph_from_place(place11, network_type=\"walk\")\n",
    "ox.save_graphml(G11, 'data/graph11.graphml')\n",
    "G12 = ox.graph_from_place(place12, network_type=\"drive_service\")\n",
    "ox.save_graphml(G12, 'data/graph12.graphml')\n",
    "G13 = ox.graph_from_place(place13, network_type=\"walk\")\n",
    "ox.save_graphml(G13, 'data/graph13.graphml')\n",
    "G14 = ox.graph_from_place(place14, network_type=\"walk\")\n",
    "ox.save_graphml(G14, 'data/graph14.graphml')\n",
    "G15 = ox.graph_from_place(place15, network_type=\"walk\")\n",
    "ox.save_graphml(G15, 'data/graph15.graphml')\n",
    "G16 = ox.graph_from_place(place16, network_type=\"walk\")\n",
    "ox.save_graphml(G16, 'data/graph16.graphml')\n",
    "G17 = ox.graph_from_place(place17, network_type=\"walk\")\n",
    "ox.save_graphml(G17, 'data/graph17.graphml')\n",
    "G18 = ox.graph_from_place(place18, network_type=\"walk\")\n",
    "ox.save_graphml(G18, 'data/graph18.graphml')\n",
    "G19 = ox.graph_from_place(place19, network_type=\"walk\")\n",
    "ox.save_graphml(G19, 'data/graph19.graphml')\n",
    "\n",
    "#ox.save_graphml(G, 'data/graph.graphml')\n",
    "#ox.save_graphml(G2, 'data/graph2.graphml')\n",
    "\n",
    "ox.plot_graph(ox.load_graphml('data/graph12.graphml'))'''\n",
    "\n",
    "G_1 = ox.load_graphml('data/graph.graphml')\n",
    "G_2 = ox.load_graphml('data/graph2.graphml')\n",
    "G_3 = ox.load_graphml('data/graph3.graphml')\n",
    "G_4 = ox.load_graphml('data/graph4.graphml')\n",
    "G_5 = ox.load_graphml('data/graph5.graphml')\n",
    "G_6 = ox.load_graphml('data/graph6.graphml')\n",
    "G_7 = ox.load_graphml('data/graph7.graphml')\n",
    "G_8 = ox.load_graphml('data/graph8.graphml')\n",
    "G_9 = ox.load_graphml('data/graph9.graphml')\n",
    "G_10 = ox.load_graphml('data/graph10.graphml')\n",
    "G_11 = ox.load_graphml('data/graph11.graphml')\n",
    "G_12 = ox.load_graphml('data/graph12.graphml')\n",
    "G_13 = ox.load_graphml('data/graph13.graphml')\n",
    "G_14 = ox.load_graphml('data/graph14.graphml')\n",
    "G_15 = ox.load_graphml('data/graph15.graphml')\n",
    "G_16 = ox.load_graphml('data/graph16.graphml')\n",
    "G_17 = ox.load_graphml('data/graph17.graphml')\n",
    "G_18 = ox.load_graphml('data/graph18.graphml')\n",
    "G_19 = ox.load_graphml('data/graph19.graphml')\n",
    "\n",
    "L = [G_1, G_2, G_3, G_4, G_5, G_6, G_7, G_8, G_9, G_10, G_11, G_12, G_13, G_14, G_15, G_16, G_17, G_18, G_19]"
   ]
  },
  {
   "cell_type": "markdown",
   "id": "bb14c45b",
   "metadata": {},
   "source": [
    "Notre idée ici est de séparer Montreal en fonction de ses 19 arrondissements, cela permet d'éviter le chevauchement entre deux zones, même si évidément des zones peuvent partager des routes. De plus cela permet une répartition optimale des déneigeuses."
   ]
  },
  {
   "cell_type": "code",
   "execution_count": 25,
   "id": "512728c7",
   "metadata": {},
   "outputs": [
    {
     "name": "stdout",
     "output_type": "stream",
     "text": [
      "There are 28408 edges\n"
     ]
    }
   ],
   "source": [
    "def decomplexify(graph):\n",
    "    node_list = graph.edges(data=True)\n",
    "    to_graph = []\n",
    "    for node in node_list:\n",
    "        #Weight\n",
    "        dist = node[2][\"length\"]\n",
    "        one_way = node[2][\"oneway\"] \n",
    "        n1 = node[0]\n",
    "        n2 = node[1]\n",
    "        #Oriented graph\n",
    "        if not (one_way):\n",
    "            to_graph.append((n2,n1,dist))\n",
    "        to_graph.append((n1,n2,dist))\n",
    "    return to_graph\n",
    "\n",
    "print(\"There are %d edges\" % len(decomplexify(G_1)))"
   ]
  },
  {
   "cell_type": "markdown",
   "id": "3bb74c57",
   "metadata": {},
   "source": [
    "La fonction prend en entrée une liste de noeud avec plein d'informations qui ne nous sont pas forcément utiles. Le but ici est de se retrouver avec une liste de tupple (noeud de départ, noeud d'arrivé, distance) autrement dit une réprésentation de graph classique. "
   ]
  },
  {
   "cell_type": "code",
   "execution_count": null,
   "id": "2a514244",
   "metadata": {},
   "outputs": [],
   "source": []
  }
 ],
 "metadata": {
  "kernelspec": {
   "display_name": "Python 3 (ipykernel)",
   "language": "python",
   "name": "python3"
  },
  "language_info": {
   "codemirror_mode": {
    "name": "ipython",
    "version": 3
   },
   "file_extension": ".py",
   "mimetype": "text/x-python",
   "name": "python",
   "nbconvert_exporter": "python",
   "pygments_lexer": "ipython3",
   "version": "3.9.12"
  }
 },
 "nbformat": 4,
 "nbformat_minor": 5
}
