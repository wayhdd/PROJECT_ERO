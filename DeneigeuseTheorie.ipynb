{
 "cells": [
  {
   "cell_type": "code",
   "execution_count": 53,
   "id": "713720ba",
   "metadata": {},
   "outputs": [],
   "source": [
    "import numpy as np\n",
    "from copy import copy"
   ]
  },
  {
   "cell_type": "markdown",
   "id": "457f26f1",
   "metadata": {},
   "source": [
    "# Déneigeuse - Etude de la théorie"
   ]
  },
  {
   "cell_type": "markdown",
   "id": "a3b492a3",
   "metadata": {},
   "source": [
    "### Introduction"
   ]
  },
  {
   "cell_type": "markdown",
   "id": "37910e21",
   "metadata": {},
   "source": [
    "Dans ce notebook nous allons expliquer le fonctionnement de notre algorithme sur un exemple d'un petit graphe. Ce gaphe est oriente et peut represeneter un arrondissement de Montreal. Notre graphe est connexe mais peut quand meme avoir des impasses. Les arretes du graphe peuvent etre vues comme les routes, elles sont soit a sens unique soit a double sens."
   ]
  },
  {
   "cell_type": "markdown",
   "id": "fa00f4c4",
   "metadata": {},
   "source": [
    "### Exlication de l'algorithme"
   ]
  },
  {
   "cell_type": "markdown",
   "id": "37b52ac3",
   "metadata": {},
   "source": [
    "La premiere methode qui nous est venu a l'esprit etait de chercher le chemin eulerien. Notre graphe etant oriente et n'etant pas forcement eulerien, l'algorithme du parcours eulerien necessite quelques modifications. Notre methode pour trouver le chemin le plus optimal est donc la suivante :\n",
    "\n",
    "1. Transformer notre graphe en un graphe eulerien en ajoutant des arretes.\n",
    "\n",
    "2. Rechercher un chemin sur le graphe eulerien.\n",
    "\n",
    "3. Transposer le chemin trouve sur le graphe initial.\n",
    "\n",
    "4. Remplacer les passages du chemin eulerien qui n'existent pas par les chemins les plus courts en prenant en compte les sens des arretes. Si on n'arrive pas trouver le chemin le plus court, on refait une recherche en considerant le graphe comme non-oriente."
   ]
  },
  {
   "cell_type": "markdown",
   "id": "3534e05b",
   "metadata": {},
   "source": [
    "### Transformer un graphe orienté en un graphe orienté eulerien"
   ]
  },
  {
   "cell_type": "markdown",
   "id": "f851db13",
   "metadata": {},
   "source": [
    "Cette fonction sépare les arrêtes du graphe en 5 groupes en fonction des degrés de leurs arrêtes :\n",
    "- in_degree == out_degree \n",
    "- in_degree + 1 == out_degree\n",
    "- in_degree == out_degree + 1\n",
    "- in_degree + 1 < out_degree\n",
    "- in_degree > out_degree + 1\n",
    "\n",
    "Ensuite la fonction ajoute des nouvelles arrêtes afin que le graphe ait au maximum une arrête \"in_degree + 1 == out_degree\" et au maximum une arrête \"in_degree == out_degree + 1\". Toutes les autres arrêtes doivent avoir leur in_degree == out_degree."
   ]
  },
  {
   "cell_type": "code",
   "execution_count": 54,
   "id": "e29e26ed",
   "metadata": {},
   "outputs": [],
   "source": [
    "# Function converting directed graph to directed eulerian graph\n",
    "def directed_to_eulerian(G):\n",
    "    # create a copy of G to not modify the initial graph\n",
    "    G_copy = copy(G)\n",
    "    # create lists of vertices with their in and out degrees (vertice_number, inv, outv)\n",
    "    in_bigger = [] # in = out + 1\n",
    "    out_bigger = [] # out = in + 1\n",
    "    in_dominant = [] # in > out + 1\n",
    "    out_dominant = [] # out > in + 1\n",
    "    m = 0\n",
    "    for (a, b, w) in G:\n",
    "        if (a > m):\n",
    "            m = a\n",
    "        if (b > m):\n",
    "            m = b\n",
    "    for i in range(m + 1): # for each vertice of the graph count the number of in and out\n",
    "        inv = 0\n",
    "        outv = 0\n",
    "        for (a, b, w) in G:\n",
    "            if (i == a):\n",
    "                outv += 1\n",
    "            if (i == b):\n",
    "                inv += 1\n",
    "        # adding all vertices in their respective list        \n",
    "        if (inv == outv + 1):\n",
    "            in_bigger.append((i, inv, outv))\n",
    "        elif (outv == inv + 1):\n",
    "            out_bigger.append((i, inv, outv))\n",
    "        elif (inv > outv + 1):\n",
    "            in_dominant.append((i, inv, outv))\n",
    "        elif (inv != outv):\n",
    "            out_dominant.append((i, inv, outv))\n",
    "    \n",
    "    while (len(out_bigger) > 1 or len(in_bigger) > 1) or len(in_dominant) > 0 or len(out_dominant) > 0:\n",
    "        while (len(in_bigger) > 1):\n",
    "            (i, inv, outv) = in_bigger[0]\n",
    "            if (len(out_dominant) > 0):\n",
    "                (i2, inv2, outv2) = out_dominant[0]\n",
    "                # adding edge 1 -> 2\n",
    "                G_copy.append((i, i2, 10)) # we dont care here about weight because this road doesnt exist and we will no go there\n",
    "                # removing first vertice from the list because it now has equla number of in and out\n",
    "                in_bigger.pop(0)\n",
    "                if (inv2 + 1 == outv2):\n",
    "                    out_dominant.pop(0) # if new inv == outv remove\n",
    "                elif (inv2 + 2 == outv2):\n",
    "                    out_dominant.pop(0)\n",
    "                    out_bigger.append(((i2, inv2 + 1, outv2))) # if 'out dominant' node becames 'out bigger' node\n",
    "                else:\n",
    "                    out_dominant[0] = (i2, inv2 + 1, outv2) # if its not equal just update new inv\n",
    "            elif (len(out_bigger) > 0):\n",
    "                (i2, inv2, outv2) = out_bigger[0]\n",
    "                # adding edge 1 -> 2\n",
    "                G_copy.append((i, i2, 10))\n",
    "                in_bigger.pop(0)\n",
    "                out_bigger.pop(0)\n",
    "            else:\n",
    "                print(\"1 The graph is not connected ! Try to redo the algorithm on a piece of paper !\")\n",
    "                return G_copy\n",
    "            \n",
    "        while (len(out_bigger) > 1):\n",
    "            (i, inv, outv) = out_bigger[0]\n",
    "            if (len(in_dominant) > 0):\n",
    "                (i2, inv2, outv2) = in_dominant[0]\n",
    "                G_copy.append((i2, i, 10))\n",
    "                out_bigger.pop(0)\n",
    "                if (outv2 + 1 == inv2):\n",
    "                    in_dominant.pop(0)\n",
    "                elif (outv2 + 2 == inv2):\n",
    "                    in_dominant.pop(0)\n",
    "                    in_bigger.append(((i2, inv2, outv2 + 1))) # if 'in dominant' node becames 'in bigger' node\n",
    "                else:\n",
    "                    in_dominant[0] = (i2, inv2, outv2 + 1)\n",
    "            elif (len(in_bigger) > 0):\n",
    "                (i2, inv2, outv2) = in_bigger[0]\n",
    "                G_copy.append((i2, i, 10))\n",
    "                out_bigger.pop(0)\n",
    "                in_bigger.pop(0)\n",
    "            else:\n",
    "                print(\"2 The graph is not connected ! Try to redo the algorithm on a piece of paper !\")\n",
    "                return G_copy\n",
    "            \n",
    "        while (len(in_dominant) > 0):\n",
    "            (i, inv, outv) = in_dominant[0]\n",
    "            if (len(out_dominant) > 0):\n",
    "                (i2, inv2, outv2) = out_dominant[0]\n",
    "                G_copy.append((i, i2, 10))\n",
    "                if (outv + 1 == inv):\n",
    "                    in_dominant.pop(0)\n",
    "                elif (outv + 2 == inv):\n",
    "                    in_dominant.pop(0)\n",
    "                    in_bigger.append((i, inv, outv + 1)) # if 'in dominant' node becames 'in bigger' node\n",
    "                else:\n",
    "                    in_dominant[0] = (i, inv, outv + 1)\n",
    "                # do the same for out_dominant\n",
    "                if (inv2 + 1 == outv2):\n",
    "                    out_dominant.pop(0)\n",
    "                elif (inv2 + 2 == outv2):\n",
    "                    out_dominant.pop(0)\n",
    "                    out_bigger.append((i2, inv2 + 1, outv2)) # if 'in dominant' node becames 'in bigger' node\n",
    "                else:\n",
    "                    out_dominant[0] = (i2, inv2 + 1, outv2)\n",
    "            elif (len(out_bigger) > 0):\n",
    "                (i2, inv2, outv2) = out_bigger[0]\n",
    "                G_copy.append((i, i2, 10))\n",
    "                out_bigger.pop(0)\n",
    "                if (outv + 1 == inv):\n",
    "                    in_dominant.pop(0)\n",
    "                elif (outv + 2 == inv):\n",
    "                    in_dominant.pop(0)\n",
    "                    in_bigger.append((i, inv, outv + 1)) # if 'in dominant' node becames 'in bigger' node\n",
    "                else:\n",
    "                    in_dominant[0] = (i, inv, outv + 1)\n",
    "            \n",
    "            else:\n",
    "                print(\"3 The graph is not connected ! Try to redo the algorithm on a piece of paper !\")\n",
    "                return G_copy\n",
    "            \n",
    "        while (len(out_dominant) > 0):\n",
    "            (i, inv, outv) = out_dominant[0]\n",
    "            if (len(in_dominant) > 0):\n",
    "                (i2, inv2, outv2) = in_dominant[0]\n",
    "                G_copy.append((i2, i, 10))\n",
    "                if (inv + 1 == outv):\n",
    "                    out_dominant.pop(0)\n",
    "                elif (inv + 2 == outv):\n",
    "                    out_dominant.pop(0)\n",
    "                    out_bigger.append((i, inv + 1, outv)) # if 'in dominant' node becames 'in bigger' node\n",
    "                else:\n",
    "                    out_dominant[0] = (i, inv + 1, outv)\n",
    "                # do the same for in_dominant\n",
    "                if (outv2 + 1 == inv2):\n",
    "                    in_dominant.pop(0)\n",
    "                elif (outv2 + 2 == inv2):\n",
    "                    in_dominant.pop(0)\n",
    "                    in_bigger.append((i2, inv2, outv2 + 1)) # if 'in dominant' node becames 'in bigger' node\n",
    "                else:\n",
    "                    in_dominant[0] = (i2, inv2, outv2 + 1)\n",
    "            elif (len(in_bigger) > 0):\n",
    "                (i2, inv2, outv2) = in_bigger[0]\n",
    "                G_copy.append((i2, i, 10))\n",
    "                in_bigger.pop(0)\n",
    "                if (inv + 1 == outv):\n",
    "                    out_dominant.pop(0)\n",
    "                elif (inv + 2 == outv):\n",
    "                    out_dominant.pop(0)\n",
    "                    out_bigger.append((i, inv + 1, outv)) # if 'in dominant' node becames 'in bigger' node\n",
    "                else:\n",
    "                    out_dominant[0] = (i, inv + 1, outv)\n",
    "            \n",
    "            else:\n",
    "                print(\"4 The graph is not connected ! Try to redo the algorithm on a piece of paper !\")\n",
    "                return G_copy\n",
    "                \n",
    "    \n",
    "    return G_copy        "
   ]
  },
  {
   "cell_type": "markdown",
   "id": "d83e3108",
   "metadata": {},
   "source": [
    "### Trouver un chemin eulerien sur un graphe orienté"
   ]
  },
  {
   "cell_type": "markdown",
   "id": "a494ca51",
   "metadata": {},
   "source": [
    "Pour trouver le chemin eulerien nous allons utiliser une version un peu modifiée de l'algorithme de Hierholzer. Dans la version classique cet algorithme permet de rechercher non pas le chemin mais le circuit eulerien. Pour trouver le chemin il suffit jsute de bien définir le noeud de départ. Et la condition pour le noeud de départ est que son demi-degre degré extérieur soit supérieur à son demi-degré intérieur."
   ]
  },
  {
   "cell_type": "code",
   "execution_count": 55,
   "id": "5e821ced",
   "metadata": {},
   "outputs": [],
   "source": [
    "# Hierholzer’s Algorithm for directed graph\n",
    "\n",
    "# function converting our graph to an adj list\n",
    "def graph_to_adj(G):\n",
    "    m = 0\n",
    "    for (a, b, w) in G:\n",
    "        if (a > m):\n",
    "            m = a\n",
    "        if (b > m):\n",
    "            m = b\n",
    "    adj = [[] for _ in range(m + 1)]\n",
    "    \n",
    "    for (a, b, w) in G:\n",
    "        adj[a].append(b)\n",
    "    return adj\n",
    "    \n",
    "def get_eulerian_path(G):\n",
    "    adj = graph_to_adj(G)\n",
    "    # adj represents the adjacency list of\n",
    "    # the directed graph\n",
    "    # edge_count represents the number of edges\n",
    "    # emerging from a vertex\n",
    "        \n",
    "    edge_count = dict()\n",
    "  \n",
    "    for i in range(len(adj)):\n",
    "  \n",
    "        # find the count of edges to keep track\n",
    "        # of unused edges\n",
    "        edge_count[i] = len(adj[i])\n",
    "  \n",
    "    if len(adj) == 0:\n",
    "        return # empty graph\n",
    "  \n",
    "    # Maintain a stack to keep vertices\n",
    "    curr_path = []\n",
    "  \n",
    "    # vector to store final circuit\n",
    "    circuit = []\n",
    "  \n",
    "    # find the start vertex (indeg + 1 = outdeg)\n",
    "    # create lists of vertices with their in and out (vertice_number, inv, outv)\n",
    "    start_vertex = (0, 0, 0) # out = in + 1\n",
    "    m = 0\n",
    "    for (a, b, w) in G:\n",
    "        if (a > m):\n",
    "            m = a\n",
    "        if (b > m):\n",
    "            m = b\n",
    "    for i in range(m + 1): # for each vertice of the graph count the number of in and out\n",
    "        inv = 0\n",
    "        outv = 0\n",
    "        for (a, b, w) in G:\n",
    "            if (i == a):\n",
    "                outv += 1\n",
    "            if (i == b):\n",
    "                inv += 1\n",
    "        # adding all vertices in their respective list \n",
    "        if (outv == inv + 1):\n",
    "            start_vertex = (i, inv, outv)\n",
    "    \n",
    "    # find the end vertex (outdeg + 1 = indeg) if there is no end vertex\n",
    "    \n",
    "    \n",
    "    # start from the start_vertex, if there is no start vertex, start from 0\n",
    "    curr_path.append(start_vertex[0])\n",
    "    curr_v = start_vertex[0] # Current vertex\n",
    "  \n",
    "    while len(curr_path):\n",
    "  \n",
    "        # If there's remaining edge\n",
    "        if edge_count[curr_v]:\n",
    "  \n",
    "            # Push the vertex\n",
    "            curr_path.append(curr_v)\n",
    "  \n",
    "            # Find the next vertex using an edge\n",
    "            next_v = adj[curr_v][-1]\n",
    "  \n",
    "            # and remove that edge\n",
    "            edge_count[curr_v] -= 1\n",
    "            adj[curr_v].pop()\n",
    "  \n",
    "            # Move to next vertex\n",
    "            curr_v = next_v\n",
    "  \n",
    "        # back-track to find remaining path\n",
    "        else:\n",
    "            circuit.append(curr_v)\n",
    "  \n",
    "            # Back-tracking\n",
    "            curr_v = curr_path[-1]\n",
    "            curr_path.pop()\n",
    "  \n",
    "    # we've got the path, now return its reverse\n",
    "    rev = []\n",
    "    for item in circuit[::-1]:\n",
    "        rev.append(item)\n",
    "    return rev"
   ]
  },
  {
   "cell_type": "markdown",
   "id": "2e60939d",
   "metadata": {},
   "source": [
    "### Trouver le chemin le plus court entre deux noeuds "
   ]
  },
  {
   "cell_type": "markdown",
   "id": "c2f26b84",
   "metadata": {},
   "source": [
    "Pour trouver le chemin le plus court nous allons utiliser l'algorithme de Dijkstra. Nous avons implemente une fonction qui marche avec les graphes orientes et non orientes, il faut juste preciser le type en parametre. Notre fonction renvoit un tuple ([chemin], distance). Dans le cas ou le chemin n'existe pas la fonction renvoit (None, 0). L'algorithme est le suivant:\n",
    "\n",
    "1. Marquer tous les sommets non visités. Créer un ensemble de tous les sommets non visités.\n",
    "\n",
    "2. Attribuer une valeur de distance nulle au sommet source et une valeur de distance infinie à tous les autres sommets.\n",
    "\n",
    "3. Définir le sommet source comme sommet actuel\n",
    "\n",
    "4. Pour le sommet actuel, considérer tous ses voisins non visités et calculer leurs distances provisoires à travers le courant. (distance actuelle + poids de l'arête correspondante) \n",
    "\n",
    "5. Comparer la distance nouvellement calculée à la valeur assignée actuelle (peut être l'infini pour certains sommets) et attribuez la plus petite.\n",
    "\n",
    "6. Après avoir considéré tous les voisins non visités du sommet actuel, marquer le courant comme visité et le supprimer de l'ensemble non visité.\n",
    "\n",
    "7. De même, continuer pour tous les sommets jusqu'à ce que tous les nœuds soient visités."
   ]
  },
  {
   "cell_type": "code",
   "execution_count": 56,
   "id": "8285b479",
   "metadata": {},
   "outputs": [],
   "source": [
    "def dijkstra(G, start, end, is_directed):\n",
    "    # conversions\n",
    "    graph = {}\n",
    "    # calculate total number of vertices\n",
    "    total = 0\n",
    "    for (a, b, w) in G:\n",
    "        if a > total:\n",
    "            total = a\n",
    "        if b > total:\n",
    "            total = b\n",
    "    for i in range(total + 1):\n",
    "        graph[i] = {}\n",
    "    for (a, b, w) in G:\n",
    "        graph[a][b] = w\n",
    "        if not is_directed: # if the graph is not directed add the same edge but in reverse direction\n",
    "            graph[b][a] = w\n",
    "    \n",
    "    # empty dictionary to hold distances\n",
    "    distances = {} \n",
    "    # list of vertices in path to current vertex\n",
    "    predecessors = {} \n",
    "    \n",
    "    # get all the vertices that need to be assessed\n",
    "    to_assess = graph.keys() \n",
    "\n",
    "    # set all initial distances to infinity\n",
    "    #  and no predecessor for any node\n",
    "    for node in graph:\n",
    "        distances[node] = float('inf')\n",
    "        predecessors[node] = None\n",
    "    \n",
    "    # set the initial collection of \n",
    "    # permanently labelled nodes to be empty\n",
    "    sp_set = []\n",
    "\n",
    "    # set the distance from the start vertex to be 0\n",
    "    distances[start] = 0\n",
    "    \n",
    "    # as long as there are still vertices to assess:\n",
    "    while len(sp_set) < len(to_assess):\n",
    "\n",
    "        # chop out any vertices with a permanent label\n",
    "        still_in = {node: distances[node]\\\n",
    "                    for node in [node for node in\\\n",
    "                    to_assess if node not in sp_set]}\n",
    "\n",
    "        # find the closest node to the current vertex\n",
    "        closest = min(still_in, key = distances.get)\n",
    "\n",
    "        # and add it to the permanently labelled vertices\n",
    "        sp_set.append(closest)\n",
    "        \n",
    "        # then for all the neighbours of \n",
    "        # the closest vertex (that was just added to\n",
    "        # the permanent set)\n",
    "        for node in graph[closest]:\n",
    "            # if a shorter path to that node can be found\n",
    "            if distances[node] > distances[closest] +\\\n",
    "                       graph[closest][node]:\n",
    "\n",
    "                # update the distance with \n",
    "                # that shorter distance\n",
    "                distances[node] = distances[closest] +\\\n",
    "                       graph[closest][node]\n",
    "\n",
    "                # set the predecessor for that node\n",
    "                predecessors[node] = closest\n",
    "                \n",
    "    # once the loop is complete the final \n",
    "    # path needs to be calculated - this can\n",
    "    # be done by backtracking through the predecessors\n",
    "    path = [end]\n",
    "    while start not in path:\n",
    "        if (predecessors[path[-1]] == None): # it means that path doesnt exist\n",
    "            return None, 0\n",
    "        path.append(predecessors[path[-1]])\n",
    "    \n",
    "    # return the path in order start -> end, and it's cost\n",
    "    return path[::-1], distances[end]\n",
    "\n",
    "# Example of dict :\n",
    "# graph = {\n",
    "#        '1': {'2': 1, '4':  1},\n",
    "#        '2': {'1': 1, '4':  1, '3':  2},\n",
    "#        '3': {'2':2, '4':1, '5':1, '6':1},\n",
    "#        '4': {'1':  1, '2':  1, '3':1, '5':2, '6':15},\n",
    "#        '5': {'3': 1, '4':2, '6':1},\n",
    "#        '6': {'3': 1, '4':15, '5':1}\n",
    "#     }"
   ]
  },
  {
   "cell_type": "markdown",
   "id": "294151b3",
   "metadata": {},
   "source": [
    "### Remplacer les routes qui n'existent pas"
   ]
  },
  {
   "cell_type": "markdown",
   "id": "28a623f4",
   "metadata": {},
   "source": [
    "On remplace les arrêtes qui ne devraient pas exister par le chemin le plus court entre les deux noeuds en utilisant l'algorithme de dijkstra. On l'execute une premiere fois en considérant le graph comme orienté, et si on ne peut trouver de resultat (cul de sac par exemple), on le relance en considérant cette fois que le graph n'est pas orienté.\n",
    "On remplace ensuite les deux noeuds par le chemin correspondant."
   ]
  },
  {
   "cell_type": "code",
   "execution_count": 57,
   "id": "303fc1e7",
   "metadata": {},
   "outputs": [],
   "source": [
    "def graph_to_adj_weighted(G):\n",
    "    m = 0\n",
    "    for (a, b, w) in G:\n",
    "        if (a > m):\n",
    "            m = a\n",
    "        if (b > m):\n",
    "            m = b\n",
    "    adj = [[] for _ in range(m + 1)]\n",
    "    \n",
    "    for (a, b, w) in G:\n",
    "        adj[a].append((b,w))\n",
    "    return adj\n",
    "\n",
    "def replace_nodes(G, arr, adj):\n",
    "    arr_g = copy(arr)\n",
    "    i = 0\n",
    "    while i < len(arr_g)-1:\n",
    "        a,b = arr_g[i],arr_g[i+1]\n",
    "        adj_a = adj[a]\n",
    "        flag = False\n",
    "        for e in adj[a]: #check si b est dans la liste d'adjacence de a\n",
    "            if (e[0] == b):\n",
    "                flag = True\n",
    "                break\n",
    "        if (flag != True):\n",
    "            p, d = dijkstra(G, a, b, is_directed=True)\n",
    "            if (d == 0):\n",
    "                p, d = dijkstra(G, a, b, is_directed=False)\n",
    "            for e in p:\n",
    "                arr_g.insert(i, e)\n",
    "                i += 1\n",
    "            arr_g.pop(i)\n",
    "            arr_g.pop(i)\n",
    "        i+= 1\n",
    "    return arr_g"
   ]
  },
  {
   "cell_type": "markdown",
   "id": "31767ed6",
   "metadata": {},
   "source": [
    "## Démonstration sur un exemple de graphe"
   ]
  },
  {
   "cell_type": "markdown",
   "id": "b4f8614d",
   "metadata": {},
   "source": [
    "### Fonction permettant de visualiser un graphe"
   ]
  },
  {
   "cell_type": "code",
   "execution_count": 58,
   "id": "ce9cc098",
   "metadata": {},
   "outputs": [],
   "source": [
    "import networkx as nx\n",
    "\n",
    "def print_graph(G):\n",
    "    '''\n",
    "    Function printing a graph G by converting it to nxdigraph.\n",
    "    '''\n",
    "    maxi = 0\n",
    "    for (n1, n2, w) in G:\n",
    "        if (n1 > maxi):\n",
    "            maxi = n1\n",
    "        if (n2 > maxi):\n",
    "            maxi = n2\n",
    "    new_graph = nx.MultiDiGraph()\n",
    "    new_graph.add_nodes_from(range(0, maxi + 1)) # adding all nodes to the graph\n",
    "    for (n1, n2, w) in G: # adding all edges with their weight\n",
    "        new_graph.add_edge(n1, n2, weight=w)\n",
    "    nx.draw(new_graph, with_labels=True, connectionstyle='arc3,rad=0.2')"
   ]
  },
  {
   "cell_type": "markdown",
   "id": "adf91a94",
   "metadata": {},
   "source": [
    "### Quelques exemples de graphes"
   ]
  },
  {
   "cell_type": "code",
   "execution_count": 59,
   "id": "08f66da9",
   "metadata": {},
   "outputs": [],
   "source": [
    "G = [(0,3,7),(0,2,3),\n",
    "    (1,2,1),(1,7,2),\n",
    "    (2,5,2), (2,4,3), (2,3,6),\n",
    "    (3,8,9), (3,0,2),\n",
    "    (4,5,2), (4,8,3),\n",
    "    (5,4,2),(5,1,4),\n",
    "    (6,8,2), (6,5,6), (6,7,4),\n",
    "    (7,6,4), (7,9,4),\n",
    "    (8,4,3), (8,3,3),\n",
    "    (9,6,4),( 9,11,1), (10, 11, 1)]\n",
    "\n",
    "#G = [(0, 1, 3), (1, 2, 3), (2, 3, 3), (3, 0, 3), (1, 3, 3), (0, 2, 3)]\n",
    "\n",
    "#G = [(1, 0, 3), (2, 0, 3), (2, 1, 3),(3, 2, 4), (0, 3, 3), (3, 4, 3)]\n",
    "\n",
    "#G = [(0, 1, 3), (1, 2, 3), (2, 0, 5)]\n",
    "\n",
    "#G = [(0, 1, 3), (2, 1, 4)]\n",
    "\n",
    "#G = [(2, 1, 3), (1, 0, 3), (0, 2, 3), (0, 3, 5), (3, 4, 5), (4, 0, 5)]\n",
    "\n",
    "#G = [(2, 1, 3), (1, 0, 3), (0, 2, 3), (0, 3, 4), (3, 4, 3), (1, 3, 3)]"
   ]
  },
  {
   "cell_type": "code",
   "execution_count": 60,
   "id": "4ca207bc",
   "metadata": {},
   "outputs": [
    {
     "name": "stdout",
     "output_type": "stream",
     "text": [
      "[(0, 3, 7), (0, 2, 3), (1, 2, 1), (1, 7, 2), (2, 5, 2), (2, 4, 3), (2, 3, 6), (3, 8, 9), (3, 0, 2), (4, 5, 2), (4, 8, 3), (5, 4, 2), (5, 1, 4), (6, 8, 2), (6, 5, 6), (6, 7, 4), (7, 6, 4), (7, 9, 4), (8, 4, 3), (8, 3, 3), (9, 6, 4), (9, 11, 1), (10, 11, 1)]\n"
     ]
    },
    {
     "data": {
      "image/png": "[encoded data removed]",
      "text/plain": [
       "<Figure size 432x288 with 1 Axes>"
      ]
     },
     "metadata": {},
     "output_type": "display_data"
    }
   ],
   "source": [
    "# Copy our graph\n",
    "G_copy = copy(G)\n",
    "# Print the initial graph and its edges list\n",
    "print_graph(G)\n",
    "print(G)"
   ]
  },
  {
   "cell_type": "code",
   "execution_count": 61,
   "id": "51affe8a",
   "metadata": {
    "scrolled": true
   },
   "outputs": [
    {
     "name": "stdout",
     "output_type": "stream",
     "text": [
      "[(0, 3, 7), (0, 2, 3), (1, 2, 1), (1, 7, 2), (2, 5, 2), (2, 4, 3), (2, 3, 6), (3, 8, 9), (3, 0, 2), (4, 5, 2), (4, 8, 3), (5, 4, 2), (5, 1, 4), (6, 8, 2), (6, 5, 6), (6, 7, 4), (7, 6, 4), (7, 9, 4), (8, 4, 3), (8, 3, 3), (9, 6, 4), (9, 11, 1), (10, 11, 1), (3, 0, 10), (4, 1, 10), (5, 2, 10), (11, 6, 10), (8, 9, 10)]\n"
     ]
    },
    {
     "data": {
      "image/png": "[encoded data removed]",
      "text/plain": [
       "<Figure size 432x288 with 1 Axes>"
      ]
     },
     "metadata": {},
     "output_type": "display_data"
    }
   ],
   "source": [
    "# Convert the graph to eulerian\n",
    "G_eul = directed_to_eulerian(G_copy)\n",
    "# Print the new eulerian graph and its edges list\n",
    "print(G_eul)\n",
    "print_graph(G_eul)"
   ]
  },
  {
   "cell_type": "code",
   "execution_count": 62,
   "id": "262ebfc9",
   "metadata": {},
   "outputs": [
    {
     "name": "stdout",
     "output_type": "stream",
     "text": [
      "[10, 11, 6, 7, 9, 6, 5, 2, 3, 0, 2, 4, 1, 7, 6, 8, 3, 0, 3, 8, 4, 5, 1, 2, 5, 4, 8, 9, 11]\n"
     ]
    }
   ],
   "source": [
    "# Find the eulerian path\n",
    "eulerian_path = get_eulerian_path(G_eul)\n",
    "# Print eulerian path\n",
    "print(eulerian_path)"
   ]
  },
  {
   "cell_type": "code",
   "execution_count": 63,
   "id": "6301c5f2",
   "metadata": {},
   "outputs": [
    {
     "name": "stdout",
     "output_type": "stream",
     "text": [
      "[10, 11, 9, 6, 7, 9, 6, 5, 1, 2, 3, 0, 2, 4, 5, 1, 7, 6, 8, 3, 0, 3, 8, 4, 5, 1, 2, 5, 4, 8, 4, 5, 1, 7, 9, 11]\n"
     ]
    }
   ],
   "source": [
    "# Find the real path\n",
    "true_path = replace_nodes(G, eulerian_path, graph_to_adj_weighted(G))\n",
    "# Print the final real path\n",
    "print(true_path)"
   ]
  },
  {
   "cell_type": "markdown",
   "id": "9e1f0ff9",
   "metadata": {},
   "source": [
    "### Test avec une vraie zone de Monreal"
   ]
  },
  {
   "cell_type": "code",
   "execution_count": 64,
   "id": "30468a9e",
   "metadata": {},
   "outputs": [],
   "source": [
    "real_G = [(2187161104, 301495983, 42.542), (2187161104, 2187161105, 37.878), (2187161104, 2187161117, 67.978), (2187161104, 2187161118, 101.438), (301495983, 615017544, 66.387), (301495983, 615017546, 73.866), (301495983, 2187162903, 40.899), (2187161105, 2187161113, 34.982), (2187161105, 2187161106, 121.617), (2187161117, 615017544, 40.396), (2187161117, 371474024, 69.239), (2187161118, 2187161106, 44.747), (2187161118, 371474024, 73.995), (2187161118, 615001828, 38.42), (2187161113, 2187161109, 140.759), (2187161113, 615017546, 41.433), (2187161106, 2187161109, 37.106), (2187161109, 615001834, 37.605), (615001834, 615001828, 84.301), (615001834, 615001836, 122.592), (615017546, 2187162922, 40.279), (615017544, 615017532, 74.543), (615017544, 2187162910, 40.654), (371474024, 615001826, 38.812), (615001828, 615001826, 77.42), (615001828, 615001830, 15.593), (615017532, 248511702, 71.909), (615017532, 2188531350, 72.924), (615017532, 2187162915, 41.737), (248511702, 2188531370, 32.518), (248511702, 2187162887, 41.736), (2188531350, 2188531370, 85.13), (2188531350, 615001807, 39.419), (2187162915, 2187162880, 41.084), (2187162915, 2187162900, 247.958), (2187162915, 2187162918, 36.514), (615017534, 2188531388, 35.57), (615017534, 2189049774, 34.301), (615017534, 615017535, 77.436), (2188531388, 2188531373, 38.236), (2188531388, 2188531381, 38.503), (2188531388, 2188531396, 119.103), (2189049774, 2189049736, 113.266), (2189049774, 2189049737, 37.578), (615017535, 2189049755, 34.145), (615017535, 2188531375, 37.001), (615017535, 615017537, 71.644), (2189049755, 2189049737, 40.629), (2189049755, 2189049740, 5.584), (2188531375, 2187162920, 4.948), (2188531375, 2188531381, 38.693), (615017537, 2187162900, 42.729), (615017537, 2189049760, 39.307), (615017537, 615017543, 70.628), (2187162900, 2187162890, 37.378), (2187162900, 2187162898, 38.86), (2189049760, 2189049759, 248.819), (2189049760, 2189049777, 36.955), (2189049760, 2189049765, 36.575), (615017543, 615017538, 67.255), (615017543, 2189049757, 38.899), (615017543, 2187162905, 43.081), (615017538, 2187162893, 39.867), (615017538, 2189049739, 41.996), (2187162893, 2187162903, 247.85699999999997), (2187162893, 2187162912, 35.006), (2189049739, 2189049754, 34.856), (2189049757, 2189049754, 32.723), (2189049757, 2189049763, 249.076), (2189049757, 2189049765, 33.25), (2187162905, 2187162898, 31.656), (2187162905, 2187162912, 32.537), (2187162905, 2187162910, 248.53), (2187162910, 2187162880, 32.431), (2187162910, 2187162885, 33.797), (2187162922, 2187162903, 74.343), (615017584, 2189049736, 180.975), (615017584, 615017585, 84.696), (2140361825, 615001811, 228.54), (2140361825, 615001830, 10.936), (615001811, 9256960176, 7.414), (615001811, 615001817, 15.746), (615001826, 615001807, 79.669), (2189049736, 2189049764, 39.572), (615017585, 615017586, 70.446), (615017585, 2189049771, 40.821), (615017586, 615017587, 64.125), (615017586, 2189049759, 40.295), (2189049771, 2189049732, 35.021), (2189049771, 2189049764, 181.114), (2189049771, 2189049768, 136.215), (615017587, 2189049763, 40.334), (2189049759, 2189049732, 35.578), (2189049759, 2189049742, 34.047), (2189049763, 2189049742, 30.881), (2189049763, 2189049761, 35.082), (2188531370, 9306783005, 4.733), (2188531370, 615001817, 41.681000000000004), (615001807, 615001817, 83.134), (2188531362, 2187162887, 127.62), (2188531362, 2187162920, 121.265), (2188531362, 2188531384, 37.449), (2187162887, 2187162918, 35.579), (2187162887, 9306783005, 76.72800000000001), (2187162920, 2187162890, 34.32), (2188531384, 2188531381, 126.342), (2188531384, 2188531392, 184.89), (2188531384, 2188531394, 38.902), (2188531373, 2188531386, 118.978), (9306783005, 9256960177, 41.67200000000001), (9306783005, 2188531392, 33.845), (615001817, 9256960177, 7.531), (2188531386, 2188531396, 38.422), (9256960176, 9256960177, 15.667), (9256960177, 615001803, 75.58300000000001), (615001803, 1764326134, 41.367000000000004), (2187162903, 2187162885, 33.131), (1764326134, 2188531392, 43.505), (1764326134, 2188531394, 166.316), (2188531394, 2188531396, 7.358), (615001836, 615001851, 75.47500000000001), (2187162880, 2187162898, 248.257), (2187162885, 2187162912, 248.182), (2187162918, 2187162890, 248.475), (2189049732, 2189049777, 248.402), (2189049777, 2189049740, 34.534), (2189049764, 2189049737, 115.259), (2189049764, 2189049768, 41.31), (2189049754, 2189049761, 249.049), (2189049740, 2189049768, 111.751), (2189049742, 2189049765, 248.955)]"
   ]
  },
  {
   "cell_type": "code",
   "execution_count": 65,
   "id": "b033bc1d",
   "metadata": {},
   "outputs": [],
   "source": [
    "# Import functions to convert the graph\n",
    "import sys\n",
    "sys.path.append('./scripts')\n",
    "import simplify_vertices as sv"
   ]
  },
  {
   "cell_type": "code",
   "execution_count": 66,
   "id": "01724c3a",
   "metadata": {},
   "outputs": [],
   "source": [
    "# Convert vertices\n",
    "extracted = sv.extract_vertices(real_G)\n",
    "new_real_G = sv.replace_vertices(real_G, extracted)"
   ]
  },
  {
   "cell_type": "code",
   "execution_count": 67,
   "id": "f16d7490",
   "metadata": {},
   "outputs": [
    {
     "name": "stdout",
     "output_type": "stream",
     "text": [
      "[(0, 1, 42.542), (0, 2, 37.878), (0, 3, 67.978), (0, 4, 101.438), (1, 5, 66.387), (1, 6, 73.866), (1, 7, 40.899), (2, 8, 34.982), (2, 9, 121.617), (3, 5, 40.396), (3, 10, 69.239), (4, 9, 44.747), (4, 10, 73.995), (4, 11, 38.42), (8, 12, 140.759), (8, 6, 41.433), (9, 12, 37.106), (12, 13, 37.605), (13, 11, 84.301), (13, 14, 122.592), (6, 15, 40.279), (5, 16, 74.543), (5, 17, 40.654), (10, 18, 38.812), (11, 18, 77.42), (11, 19, 15.593), (16, 20, 71.909), (16, 21, 72.924), (16, 22, 41.737), (20, 23, 32.518), (20, 24, 41.736), (21, 23, 85.13), (21, 25, 39.419), (22, 26, 41.084), (22, 27, 247.958), (22, 28, 36.514), (29, 30, 35.57), (29, 31, 34.301), (29, 32, 77.436), (30, 33, 38.236), (30, 34, 38.503), (30, 35, 119.103), (31, 36, 113.266), (31, 37, 37.578), (32, 38, 34.145), (32, 39, 37.001), (32, 40, 71.644), (38, 37, 40.629), (38, 41, 5.584), (39, 42, 4.948), (39, 34, 38.693), (40, 27, 42.729), (40, 43, 39.307), (40, 44, 70.628), (27, 45, 37.378), (27, 46, 38.86), (43, 47, 248.819), (43, 48, 36.955), (43, 49, 36.575), (44, 50, 67.255), (44, 51, 38.899), (44, 52, 43.081), (50, 53, 39.867), (50, 54, 41.996), (53, 7, 247.85699999999997), (53, 55, 35.006), (54, 56, 34.856), (51, 56, 32.723), (51, 57, 249.076), (51, 49, 33.25), (52, 46, 31.656), (52, 55, 32.537), (52, 17, 248.53), (17, 26, 32.431), (17, 58, 33.797), (15, 7, 74.343), (59, 36, 180.975), (59, 60, 84.696), (61, 62, 228.54), (61, 19, 10.936), (62, 63, 7.414), (62, 64, 15.746), (18, 25, 79.669), (36, 65, 39.572), (60, 66, 70.446), (60, 67, 40.821), (66, 68, 64.125), (66, 47, 40.295), (67, 69, 35.021), (67, 65, 181.114), (67, 70, 136.215), (68, 57, 40.334), (47, 69, 35.578), (47, 71, 34.047), (57, 71, 30.881), (57, 72, 35.082), (23, 73, 4.733), (23, 64, 41.681000000000004), (25, 64, 83.134), (74, 24, 127.62), (74, 42, 121.265), (74, 75, 37.449), (24, 28, 35.579), (24, 73, 76.72800000000001), (42, 45, 34.32), (75, 34, 126.342), (75, 76, 184.89), (75, 77, 38.902), (33, 78, 118.978), (73, 79, 41.67200000000001), (73, 76, 33.845), (64, 79, 7.531), (78, 35, 38.422), (63, 79, 15.667), (79, 80, 75.58300000000001), (80, 81, 41.367000000000004), (7, 58, 33.131), (81, 76, 43.505), (81, 77, 166.316), (77, 35, 7.358), (14, 82, 75.47500000000001), (26, 46, 248.257), (58, 55, 248.182), (28, 45, 248.475), (69, 48, 248.402), (48, 41, 34.534), (65, 37, 115.259), (65, 70, 41.31), (56, 72, 249.049), (41, 70, 111.751), (71, 49, 248.955), (6, 0, 10), (9, 0, 10), (10, 0, 10), (12, 1, 10), (18, 4, 10), (25, 16, 10), (26, 22, 10), (28, 29, 10), (36, 29, 10), (41, 30, 10), (42, 32, 10), (48, 40, 10), (56, 43, 10), (58, 44, 10), (69, 51, 10), (71, 52, 10), (77, 59, 10), (7, 2, 10), (19, 3, 10), (34, 8, 10), (34, 13, 10), (35, 20, 10), (35, 21, 10), (37, 31, 10), (37, 38, 10), (45, 39, 10), (45, 50, 10), (46, 53, 10), (46, 60, 10), (49, 62, 10), (49, 66, 10), (55, 81, 10), (55, 0, 10), (64, 1, 10), (70, 4, 10), (70, 16, 10), (72, 22, 10), (76, 29, 10), (76, 30, 10), (79, 32, 10), (82, 40, 10), (7, 43, 10), (19, 44, 10), (34, 51, 10), (35, 52, 10), (37, 61, 10), (45, 67, 10), (46, 74, 10), (49, 74, 10), (55, 75, 10), (64, 59, 10), (70, 61, 10), (72, 67, 10), (76, 74, 10)]\n"
     ]
    }
   ],
   "source": [
    "# Get the eulerian path\n",
    "G_copy = copy(real_G)\n",
    "G_eul = directed_to_eulerian(G_copy)\n",
    "print(G_eul)"
   ]
  },
  {
   "cell_type": "code",
   "execution_count": 68,
   "id": "a98033f6",
   "metadata": {
    "scrolled": true
   },
   "outputs": [
    {
     "name": "stdout",
     "output_type": "stream",
     "text": [
      "[75, 77, 59, 60, 67, 70, 61, 19, 44, 52, 17, 58, 44, 51, 49, 74, 75, 76, 74, 42, 32, 40, 44, 50, 54, 56, 43, 49, 66, 47, 71, 52, 55, 75, 34, 51, 57, 72, 67, 65, 70, 16, 22, 28, 29, 32, 39, 34, 13, 14, 82, 40, 43, 48, 40, 27, 46, 74, 24, 73, 76, 30, 35, 52, 46, 60, 66, 68, 57, 71, 49, 62, 64, 59, 36, 29, 31, 37, 61, 62, 63, 79, 32, 38, 37, 31, 36, 65, 37, 38, 41, 30, 34, 8, 6, 0, 4, 11, 19, 3, 10, 0, 3, 5, 17, 26, 22, 27, 45, 67, 69, 51, 56, 72, 22, 26, 46, 53, 55, 0, 2, 9, 0, 1, 7, 43, 47, 69, 48, 41, 70, 4, 10, 18, 4, 9, 12, 1, 6, 15, 7, 2, 8, 12, 13, 11, 18, 25, 16, 21, 25, 64, 1, 5, 16, 20, 24, 28, 45, 39, 42, 45, 50, 53, 7, 58, 55, 81, 77, 35, 21, 23, 64, 79, 80, 81, 76, 29, 30, 33, 78, 35, 20, 23, 73, 79]\n"
     ]
    }
   ],
   "source": [
    "# Find the eulerian path\n",
    "eulerian_path = get_eulerian_path(G_eul)\n",
    "print(eulerian_path)"
   ]
  },
  {
   "cell_type": "code",
   "execution_count": 71,
   "id": "8799b557",
   "metadata": {},
   "outputs": [
    {
     "name": "stdout",
     "output_type": "stream",
     "text": [
      "[2188531384, 2188531394, 2188531396, 2188531388, 615017534, 2189049774, 2189049736, 615017584, 615017585, 2189049771, 2189049768, 2189049740, 2189049755, 615017535, 2188531375, 2187162920, 2188531362, 2187162887, 248511702, 2188531370, 615001817, 615001811, 2140361825, 615001830, 615017543, 2187162905, 2187162910, 2187162885, 2187162912, 2187162905, 615017543, 2189049757, 2189049765, 2189049760, 615017537, 615017535, 2188531375, 2187162920, 2188531362, 2188531384, 2188531392, 2188531384, 2188531362, 2187162920, 615017535, 615017537, 615017543, 615017538, 2189049739, 2189049754, 2189049757, 2189049765, 2189049760, 2189049765, 615017586, 2189049759, 2189049742, 2189049763, 2189049757, 615017543, 2187162905, 2187162912, 2188531384, 2188531381, 2188531375, 615017535, 615017537, 2189049760, 2189049765, 2189049757, 2189049763, 2189049761, 2189049763, 2189049742, 2189049759, 2189049732, 2189049771, 2189049764, 2189049768, 2189049740, 2189049755, 615017535, 2188531375, 2187162920, 2187162890, 2187162918, 2187162915, 615017532, 2187162915, 2187162918, 2187162890, 2187162920, 2188531375, 2188531381, 2188531388, 615017534, 615017535, 2188531375, 2188531381, 2188531384, 2188531392, 9306783005, 2188531370, 2188531350, 615001807, 615001826, 615001828, 615001834, 615001836, 615001851, 615001836, 615001834, 615001828, 615001826, 615001807, 2188531350, 615017532, 2187162915, 2187162900, 615017537, 2189049760, 2189049777, 2189049760, 615017537, 2187162900, 2187162898, 2187162900, 2187162890, 2187162920, 2188531362, 2187162887, 9306783005, 2188531392, 1764326134, 2188531394, 2188531396, 2188531388, 2188531396, 2187162905, 2187162898, 2187162900, 615017537, 2189049760, 2189049759, 615017586, 615017585, 615017586, 615017587, 2189049763, 2189049742, 2189049765, 2189049760, 615017537, 615017535, 2188531375, 2187162920, 2188531362, 2187162887, 248511702, 2188531370, 615001817, 615001811, 615001817, 615017584, 2189049736, 2189049774, 615017534, 2189049774, 2189049737, 2189049755, 615017535, 2188531375, 2187162920, 2188531362, 2187162887, 248511702, 2188531370, 615001817, 615001811, 2140361825, 615001811, 9256960176, 9256960177, 9306783005, 2187162887, 2188531362, 2187162920, 2188531375, 615017535, 2189049755, 2189049737, 2189049774, 2189049736, 2189049764, 2189049737, 2189049755, 2189049740, 2188531388, 2188531381, 2188531375, 2187162920, 2187162890, 2187162900, 2187162898, 2187162905, 2187162912, 2187162885, 2187162903, 2187162922, 615017546, 2187161113, 615017546, 2187161104, 2187161118, 615001828, 615001830, 615001828, 2187161118, 371474024, 2187161117, 371474024, 2187161104, 2187161117, 615017544, 2187162910, 2187162880, 2187162915, 2187162900, 2187162890, 2187162920, 2188531375, 615017535, 2189049755, 2189049740, 2189049768, 2189049771, 2189049732, 2189049757, 2189049754, 2189049761, 2189049763, 2189049742, 2189049759, 2189049760, 615017537, 2187162900, 2187162915, 2187162880, 2187162898, 2187162905, 2187162912, 2187162893, 2187162912, 2187161104, 2187161105, 2187161106, 2187161118, 2187161104, 301495983, 2187162903, 2187162893, 615017538, 615017543, 2189049757, 2189049765, 2189049760, 2189049759, 2189049732, 2189049777, 2189049740, 2189049768, 2189049740, 2189049777, 2189049760, 2189049765, 2189049757, 615017543, 2187162905, 2187162910, 615017544, 2187161117, 371474024, 2187161118, 371474024, 615001826, 371474024, 2187161118, 2187161106, 2187161109, 2187161106, 2187161118, 2187161104, 301495983, 615017546, 2187162922, 2187162903, 301495983, 2187161104, 2187161105, 2187161113, 2187161109, 615001834, 615001828, 615001826, 615001807, 2188531350, 615017532, 2188531350, 615001807, 615001817, 2188531370, 248511702, 615017532, 615017544, 301495983, 615017544, 615017532, 248511702, 2187162887, 2187162918, 2187162890, 2187162920, 2188531375, 2187162920, 2187162890, 2187162900, 2187162898, 2187162905, 2187162912, 2187162893, 615017538, 2187162893, 2187162903, 2187162885, 2187162912, 2187162905, 2187162898, 2187162900, 2187162890, 2187162920, 2188531362, 2188531384, 2188531394, 1764326134, 2188531394, 2188531396, 2188531394, 1764326134, 2188531392, 9306783005, 2188531370, 2188531350, 2188531370, 615001817, 9256960177, 615001803, 1764326134, 2188531392, 1764326134, 2188531394, 2188531396, 2188531388, 615017534, 2188531388, 2188531373, 2188531386, 2188531396, 2188531394, 2188531384, 2188531362, 2187162887, 248511702, 2188531370, 9306783005, 9256960177]\n"
     ]
    }
   ],
   "source": [
    "# Find the real path\n",
    "true_path = replace_nodes(new_real_G, eulerian_path, graph_to_adj_weighted(new_real_G))\n",
    "# Print the final real path\n",
    "def replace_vertices_back_in_path(path, l):\n",
    "    for i in range(len(path)):\n",
    "        path[i] = l[path[i]]\n",
    "    return path\n",
    "# J'ai directemenet copie la fct psk ca marchait pas le import\n",
    "replace_vertices_back_in_path(true_path, extracted)\n",
    "print(true_path)"
   ]
  },
  {
   "cell_type": "code",
   "execution_count": null,
   "id": "e3a8162c",
   "metadata": {},
   "outputs": [],
   "source": []
  }
 ],
 "metadata": {
  "kernelspec": {
   "display_name": "Python 3 (ipykernel)",
   "language": "python",
   "name": "python3"
  },
  "language_info": {
   "codemirror_mode": {
    "name": "ipython",
    "version": 3
   },
   "file_extension": ".py",
   "mimetype": "text/x-python",
   "name": "python",
   "nbconvert_exporter": "python",
   "pygments_lexer": "ipython3",
   "version": "3.9.2"
  }
 },
 "nbformat": 4,
 "nbformat_minor": 5
}
